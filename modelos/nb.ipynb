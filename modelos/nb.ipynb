{
 "cells": [
  {
   "cell_type": "code",
   "execution_count": 1,
   "id": "80879c8f",
   "metadata": {},
   "outputs": [],
   "source": [
    "# === Librerías de modelado y análisis ===\n",
    "import pandas as pd\n",
    "import numpy as np\n",
    "\n",
    "# === Preprocesamiento y modelado ===\n",
    "from sklearn.model_selection import train_test_split, GridSearchCV\n",
    "from sklearn.preprocessing import MinMaxScaler\n",
    "from sklearn.naive_bayes import GaussianNB\n",
    "\n",
    "# === Métricas de evaluación ===\n",
    "from sklearn.metrics import accuracy_score, confusion_matrix, classification_report\n"
   ]
  },
  {
   "cell_type": "code",
   "execution_count": null,
   "id": "a6ae1a19",
   "metadata": {},
   "outputs": [],
   "source": [
    "# === Cargar el dataset ===\n",
    "path = 'D:/TFG/codigo/datos/indicadores-filtrados-TODAS-LIGAS.csv'\n",
    "df = pd.read_csv(path, sep=\",\")\n",
    "\n",
    "# === Eliminar columnas no predictivas ===\n",
    "df.drop(['jornada', 'liga', 'temporada', 'id_indicadores_equipo_prepartido', 'id_partido'], axis=1, inplace=True)\n",
    "\n",
    "# === Definir variables predictoras e indicadores de resultado ===\n",
    "X = df.drop(['resultado_partido', 'resultado_local', 'resultado_visitante'], axis=1)\n",
    "\n",
    "y_resultado = df['resultado_partido']           # Objetivo: clasificación (1, X, 2)\n",
    "y_goles_local = df['resultado_local']           # Regresión (no para Naive Bayes)\n",
    "y_goles_visitante = df['resultado_visitante']   # Regresión (no para Naive Bayes)\n",
    "\n",
    "# === Escalar los datos ===\n",
    "scaler = MinMaxScaler()\n",
    "X_scaled = scaler.fit_transform(X)\n"
   ]
  },
  {
   "cell_type": "code",
   "execution_count": 6,
   "id": "5fc18081",
   "metadata": {},
   "outputs": [],
   "source": [
    "# === División para clasificación del resultado del partido ===\n",
    "X_train_cls, X_test_cls, y_train_cls, y_test_cls = train_test_split(\n",
    "    X_scaled, y_resultado, test_size=0.2, random_state=42\n",
    ")\n",
    "\n",
    "# === División para predicción de goles del equipo local ===\n",
    "X_train_loc, X_test_loc, y_train_loc, y_test_loc = train_test_split(\n",
    "    X_scaled, y_goles_local, test_size=0.2, random_state=42\n",
    ")\n",
    "\n",
    "# === División para predicción de goles del equipo visitante ===\n",
    "X_train_vis, X_test_vis, y_train_vis, y_test_vis = train_test_split(\n",
    "    X_scaled, y_goles_visitante, test_size=0.2, random_state=42\n",
    ")\n"
   ]
  },
  {
   "cell_type": "markdown",
   "id": "69e8fdbd",
   "metadata": {},
   "source": [
    "### Predicciones resultado"
   ]
  },
  {
   "cell_type": "code",
   "execution_count": 7,
   "id": "6d5c2995",
   "metadata": {},
   "outputs": [
    {
     "name": "stdout",
     "output_type": "stream",
     "text": [
      "Mejor valor de var_smoothing: {'var_smoothing': 1e-12}\n"
     ]
    }
   ],
   "source": [
    "# === Modelo base ===\n",
    "nb_base = GaussianNB()\n",
    "\n",
    "# === Grid de hiperparámetros ===\n",
    "param_grid_nb = {\n",
    "    'var_smoothing': np.logspace(-12, -6, 7)  # Valores entre 1e-12 y 1e-6\n",
    "}\n",
    "\n",
    "# === Búsqueda con validación cruzada ===\n",
    "grid_search_nb = GridSearchCV(\n",
    "    estimator=nb_base,\n",
    "    param_grid=param_grid_nb,\n",
    "    cv=5,\n",
    "    scoring='accuracy',\n",
    "    n_jobs=-1\n",
    ")\n",
    "\n",
    "# Ajustar con los datos de entrenamiento\n",
    "grid_search_nb.fit(X_train_cls, y_train_cls)\n",
    "\n",
    "# Mostrar el mejor valor encontrado\n",
    "print(\"Mejor valor de var_smoothing:\", grid_search_nb.best_params_)"
   ]
  },
  {
   "cell_type": "code",
   "execution_count": 8,
   "id": "a1e1dcbf",
   "metadata": {},
   "outputs": [],
   "source": [
    "# === Entrenamiento final con el mejor valor de var_smoothing ===\n",
    "best_nb_model = grid_search_nb.best_estimator_\n",
    "best_nb_model.fit(X_train_cls, y_train_cls)\n",
    "\n",
    "# === Predicción sobre el conjunto de prueba ===\n",
    "y_pred_cls = best_nb_model.predict(X_test_cls)\n"
   ]
  },
  {
   "cell_type": "code",
   "execution_count": 9,
   "id": "494c6616",
   "metadata": {},
   "outputs": [
    {
     "name": "stdout",
     "output_type": "stream",
     "text": [
      "Accuracy del modelo Naive Bayes: 0.4316\n",
      "Matriz de confusión:\n",
      "[[138  90  49]\n",
      " [ 49  84  41]\n",
      " [ 52  64  40]]\n",
      "Informe de clasificación:\n",
      "                    precision    recall  f1-score   support\n",
      "\n",
      "    Victoria local       0.58      0.50      0.53       277\n",
      "            Empate       0.35      0.48      0.41       174\n",
      "Victoria visitante       0.31      0.26      0.28       156\n",
      "\n",
      "          accuracy                           0.43       607\n",
      "         macro avg       0.41      0.41      0.41       607\n",
      "      weighted avg       0.44      0.43      0.43       607\n",
      "\n"
     ]
    }
   ],
   "source": [
    "# === Evaluación del modelo ===\n",
    "accuracy = accuracy_score(y_test_cls, y_pred_cls)\n",
    "print(f\"Accuracy del modelo Naive Bayes: {accuracy:.4f}\")\n",
    "\n",
    "# Matriz de confusión\n",
    "print(\"Matriz de confusión:\")\n",
    "print(confusion_matrix(y_test_cls, y_pred_cls))\n",
    "\n",
    "# Informe por clase\n",
    "print(\"Informe de clasificación:\")\n",
    "print(classification_report(y_test_cls, y_pred_cls, target_names=[\"Victoria local\", \"Empate\", \"Victoria visitante\"]))\n"
   ]
  },
  {
   "cell_type": "markdown",
   "id": "2d309a5e",
   "metadata": {},
   "source": [
    "### Prediccion equipo local"
   ]
  },
  {
   "cell_type": "code",
   "execution_count": 10,
   "id": "9b1e20e7",
   "metadata": {},
   "outputs": [
    {
     "name": "stderr",
     "output_type": "stream",
     "text": [
      "c:\\Users\\Miguel\\anaconda3\\Lib\\site-packages\\sklearn\\model_selection\\_split.py:700: UserWarning: The least populated class in y has only 1 members, which is less than n_splits=5.\n",
      "  warnings.warn(\n"
     ]
    },
    {
     "name": "stdout",
     "output_type": "stream",
     "text": [
      "Mejores hiperparámetros: {'var_smoothing': 1e-09}\n"
     ]
    }
   ],
   "source": [
    "# === Definir modelo y grid de hiperparámetros ===\n",
    "model = GaussianNB()\n",
    "param_grid = {\n",
    "    'var_smoothing': [1e-9, 1e-8, 1e-7]\n",
    "}\n",
    "\n",
    "# === GridSearchCV para encontrar el mejor var_smoothing ===\n",
    "grid_search = GridSearchCV(model, param_grid, cv=5, scoring='accuracy', n_jobs=-1)\n",
    "grid_search.fit(X_train_loc, y_train_loc)\n",
    "\n",
    "# === Entrenamiento final con los mejores parámetros ===\n",
    "best_params = grid_search.best_params_\n",
    "best_model = GaussianNB(**best_params)\n",
    "best_model.fit(X_train_loc, y_train_loc)\n",
    "\n",
    "# === Predicción y evaluación ===\n",
    "y_test_pred = best_model.predict(X_test_loc)\n",
    "\n",
    "print(\"Mejores hiperparámetros:\", best_params)"
   ]
  },
  {
   "cell_type": "code",
   "execution_count": 12,
   "id": "2ba775f0",
   "metadata": {},
   "outputs": [
    {
     "name": "stdout",
     "output_type": "stream",
     "text": [
      "Accuracy del modelo Naive Bayes: 0.2158\n",
      "Matriz de confusión:\n",
      "[[56 30 24 10  4  8  0  0]\n",
      " [77 28 10 34 12 32  1  0]\n",
      " [62 20 22 21 12 34  1  0]\n",
      " [14  6 13 17  4 13  1  0]\n",
      " [ 6  4  4  5  6  5  0  0]\n",
      " [ 0  1  3  0  2  2  0  0]\n",
      " [ 1  0  0  0  1  0  0  0]\n",
      " [ 0  0  0  0  0  1  0  0]]\n",
      "Informe de clasificación:\n",
      "              precision    recall  f1-score   support\n",
      "\n",
      "           0       0.26      0.42      0.32       132\n",
      "           1       0.31      0.14      0.20       194\n",
      "           2       0.29      0.13      0.18       172\n",
      "           3       0.20      0.25      0.22        68\n",
      "           4       0.15      0.20      0.17        30\n",
      "           5       0.02      0.25      0.04         8\n",
      "           6       0.00      0.00      0.00         2\n",
      "           7       0.00      0.00      0.00         1\n",
      "\n",
      "    accuracy                           0.22       607\n",
      "   macro avg       0.15      0.17      0.14       607\n",
      "weighted avg       0.27      0.22      0.22       607\n",
      "\n"
     ]
    },
    {
     "name": "stderr",
     "output_type": "stream",
     "text": [
      "c:\\Users\\Miguel\\anaconda3\\Lib\\site-packages\\sklearn\\metrics\\_classification.py:1344: UndefinedMetricWarning: Precision and F-score are ill-defined and being set to 0.0 in labels with no predicted samples. Use `zero_division` parameter to control this behavior.\n",
      "  _warn_prf(average, modifier, msg_start, len(result))\n",
      "c:\\Users\\Miguel\\anaconda3\\Lib\\site-packages\\sklearn\\metrics\\_classification.py:1344: UndefinedMetricWarning: Precision and F-score are ill-defined and being set to 0.0 in labels with no predicted samples. Use `zero_division` parameter to control this behavior.\n",
      "  _warn_prf(average, modifier, msg_start, len(result))\n",
      "c:\\Users\\Miguel\\anaconda3\\Lib\\site-packages\\sklearn\\metrics\\_classification.py:1344: UndefinedMetricWarning: Precision and F-score are ill-defined and being set to 0.0 in labels with no predicted samples. Use `zero_division` parameter to control this behavior.\n",
      "  _warn_prf(average, modifier, msg_start, len(result))\n"
     ]
    }
   ],
   "source": [
    "\n",
    "# === Evaluación del modelo ===\n",
    "accuracy = accuracy_score(y_test_loc, y_test_pred)\n",
    "print(f\"Accuracy del modelo Naive Bayes: {accuracy:.4f}\")\n",
    "\n",
    "# Matriz de confusión\n",
    "print(\"Matriz de confusión:\")\n",
    "print(confusion_matrix(y_test_loc, y_test_pred))\n",
    "\n",
    "# Informe por clase\n",
    "print(\"Informe de clasificación:\")\n",
    "print(classification_report(y_test_loc, y_test_pred))\n"
   ]
  },
  {
   "cell_type": "markdown",
   "id": "ba200e68",
   "metadata": {},
   "source": [
    "### Predicción equipo visitante"
   ]
  },
  {
   "cell_type": "code",
   "execution_count": 13,
   "id": "4e5d7ca6",
   "metadata": {},
   "outputs": [
    {
     "name": "stderr",
     "output_type": "stream",
     "text": [
      "c:\\Users\\Miguel\\anaconda3\\Lib\\site-packages\\sklearn\\model_selection\\_split.py:700: UserWarning: The least populated class in y has only 1 members, which is less than n_splits=5.\n",
      "  warnings.warn(\n"
     ]
    },
    {
     "name": "stdout",
     "output_type": "stream",
     "text": [
      "Mejores hiperparámetros: {'var_smoothing': 1e-09}\n"
     ]
    }
   ],
   "source": [
    "# === Definir modelo y grid de hiperparámetros ===\n",
    "model = GaussianNB()\n",
    "param_grid = {\n",
    "    'var_smoothing': [1e-9, 1e-8, 1e-7]\n",
    "}\n",
    "\n",
    "# === GridSearchCV para encontrar el mejor var_smoothing ===\n",
    "grid_search = GridSearchCV(model, param_grid, cv=5, scoring='accuracy', n_jobs=-1)\n",
    "grid_search.fit(X_train_vis, y_train_vis)\n",
    "\n",
    "# === Entrenamiento final con los mejores parámetros ===\n",
    "best_params = grid_search.best_params_\n",
    "best_model = GaussianNB(**best_params)\n",
    "best_model.fit(X_train_vis, y_train_vis)\n",
    "\n",
    "# === Predicción y evaluación ===\n",
    "y_test_pred = best_model.predict(X_test_vis)\n",
    "\n",
    "print(\"Mejores hiperparámetros:\", best_params)\n"
   ]
  },
  {
   "cell_type": "code",
   "execution_count": 14,
   "id": "9da025c7",
   "metadata": {},
   "outputs": [
    {
     "name": "stdout",
     "output_type": "stream",
     "text": [
      "Accuracy del modelo Naive Bayes (goles visitante): 0.2422\n",
      "Matriz de confusión:\n",
      "[[89 28 21 13 32  6  0]\n",
      " [98 30 17 22 27 20  0]\n",
      " [49 23 13 14 23  4  0]\n",
      " [18  6  3  8 15  3  0]\n",
      " [ 5  4  4  0  6  0  0]\n",
      " [ 1  0  0  0  1  1  0]\n",
      " [ 1  0  1  1  0  0  0]]\n",
      "Informe de clasificación:\n",
      "              precision    recall  f1-score   support\n",
      "\n",
      "           0       0.34      0.47      0.40       189\n",
      "           1       0.33      0.14      0.20       214\n",
      "           2       0.22      0.10      0.14       126\n",
      "           3       0.14      0.15      0.14        53\n",
      "           4       0.06      0.32      0.10        19\n",
      "           5       0.03      0.33      0.05         3\n",
      "           6       0.00      0.00      0.00         3\n",
      "\n",
      "    accuracy                           0.24       607\n",
      "   macro avg       0.16      0.22      0.15       607\n",
      "weighted avg       0.28      0.24      0.24       607\n",
      "\n"
     ]
    },
    {
     "name": "stderr",
     "output_type": "stream",
     "text": [
      "c:\\Users\\Miguel\\anaconda3\\Lib\\site-packages\\sklearn\\metrics\\_classification.py:1344: UndefinedMetricWarning: Precision and F-score are ill-defined and being set to 0.0 in labels with no predicted samples. Use `zero_division` parameter to control this behavior.\n",
      "  _warn_prf(average, modifier, msg_start, len(result))\n",
      "c:\\Users\\Miguel\\anaconda3\\Lib\\site-packages\\sklearn\\metrics\\_classification.py:1344: UndefinedMetricWarning: Precision and F-score are ill-defined and being set to 0.0 in labels with no predicted samples. Use `zero_division` parameter to control this behavior.\n",
      "  _warn_prf(average, modifier, msg_start, len(result))\n",
      "c:\\Users\\Miguel\\anaconda3\\Lib\\site-packages\\sklearn\\metrics\\_classification.py:1344: UndefinedMetricWarning: Precision and F-score are ill-defined and being set to 0.0 in labels with no predicted samples. Use `zero_division` parameter to control this behavior.\n",
      "  _warn_prf(average, modifier, msg_start, len(result))\n"
     ]
    }
   ],
   "source": [
    "\n",
    "# === Evaluación del modelo ===\n",
    "accuracy = accuracy_score(y_test_vis, y_test_pred)\n",
    "print(f\"Accuracy del modelo Naive Bayes (goles visitante): {accuracy:.4f}\")\n",
    "\n",
    "# Matriz de confusión\n",
    "print(\"Matriz de confusión:\")\n",
    "print(confusion_matrix(y_test_vis, y_test_pred))\n",
    "\n",
    "# Informe por clase\n",
    "print(\"Informe de clasificación:\")\n",
    "print(classification_report(y_test_vis, y_test_pred))\n"
   ]
  }
 ],
 "metadata": {
  "kernelspec": {
   "display_name": "base",
   "language": "python",
   "name": "python3"
  },
  "language_info": {
   "codemirror_mode": {
    "name": "ipython",
    "version": 3
   },
   "file_extension": ".py",
   "mimetype": "text/x-python",
   "name": "python",
   "nbconvert_exporter": "python",
   "pygments_lexer": "ipython3",
   "version": "3.11.7"
  }
 },
 "nbformat": 4,
 "nbformat_minor": 5
}
