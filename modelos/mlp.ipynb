{
 "cells": [
  {
   "cell_type": "code",
   "execution_count": 1,
   "id": "4b483f9f",
   "metadata": {},
   "outputs": [],
   "source": [
    "# === Librerías principales ===\n",
    "import pandas as pd\n",
    "import numpy as np\n",
    "\n",
    "# === Modelado y preprocesamiento ===\n",
    "from sklearn.model_selection import train_test_split, GridSearchCV\n",
    "from sklearn.preprocessing import MinMaxScaler\n",
    "from sklearn.neural_network import MLPClassifier\n",
    "from sklearn.metrics import accuracy_score, confusion_matrix, classification_report\n"
   ]
  },
  {
   "cell_type": "code",
   "execution_count": null,
   "id": "fda4458d",
   "metadata": {},
   "outputs": [],
   "source": [
    "# === Cargar el dataset ===\n",
    "path = 'D:/TFG/codigo/datos/indicadores-filtrados-TODAS-LIGAS.csv'\n",
    "df = pd.read_csv(path, sep=\",\")\n",
    "\n",
    "# === Eliminar columnas no predictoras ===\n",
    "df.drop(['jornada', 'liga', 'temporada', 'id_indicadores_equipo_prepartido', 'id_partido'], axis=1, inplace=True)\n",
    "\n",
    "# === Variables predictoras ===\n",
    "X = df.drop(['resultado_partido', 'resultado_local', 'resultado_visitante'], axis=1)\n",
    "\n",
    "# === Variables objetivo ===\n",
    "y_resultado = df['resultado_partido']           # Clasificación: resultado del partido (1, X, 2)\n",
    "y_goles_local = df['resultado_local']           # Regresión: goles del equipo local\n",
    "y_goles_visitante = df['resultado_visitante']   # Regresión: goles del equipo visitante\n"
   ]
  },
  {
   "cell_type": "code",
   "execution_count": 4,
   "id": "19a5957b",
   "metadata": {},
   "outputs": [],
   "source": [
    "from sklearn.preprocessing import MinMaxScaler\n",
    "\n",
    "# === Escalado de los datos ===\n",
    "scaler = MinMaxScaler()\n",
    "X_scaled = scaler.fit_transform(X)\n",
    "\n",
    "# === División para clasificación (resultado del partido) ===\n",
    "X_train_cls, X_test_cls, y_train_cls, y_test_cls = train_test_split(\n",
    "    X_scaled, y_resultado, test_size=0.2, random_state=42\n",
    ")\n",
    "\n",
    "# === División para regresión (goles local) ===\n",
    "X_train_loc, X_test_loc, y_train_loc, y_test_loc = train_test_split(\n",
    "    X_scaled, y_goles_local, test_size=0.2, random_state=42\n",
    ")\n",
    "\n",
    "# === División para regresión (goles visitante) ===\n",
    "X_train_vis, X_test_vis, y_train_vis, y_test_vis = train_test_split(\n",
    "    X_scaled, y_goles_visitante, test_size=0.2, random_state=42\n",
    ")\n"
   ]
  },
  {
   "cell_type": "markdown",
   "id": "bee801ab",
   "metadata": {},
   "source": [
    "### Predicciones resultado"
   ]
  },
  {
   "cell_type": "code",
   "execution_count": 5,
   "id": "daace074",
   "metadata": {},
   "outputs": [
    {
     "name": "stdout",
     "output_type": "stream",
     "text": [
      "Mejores hiperparámetros para MLPClassifier:\n",
      "{'activation': 'tanh', 'alpha': 0.001, 'hidden_layer_sizes': (100,), 'solver': 'adam'}\n"
     ]
    }
   ],
   "source": [
    "from sklearn.neural_network import MLPClassifier\n",
    "\n",
    "# === Modelo base ===\n",
    "mlp_cls = MLPClassifier(max_iter=500, random_state=42)\n",
    "\n",
    "# === Grid de hiperparámetros ===\n",
    "param_grid_mlp = {\n",
    "    'hidden_layer_sizes': [(50,), (100,), (50, 50)],\n",
    "    'activation': ['relu', 'tanh'],\n",
    "    'alpha': [0.0001, 0.001],  # Regularización L2\n",
    "    'solver': ['adam']         # Método de optimización más estable\n",
    "}\n",
    "\n",
    "# === Búsqueda de hiperparámetros con validación cruzada ===\n",
    "grid_search_mlp = GridSearchCV(\n",
    "    estimator=mlp_cls,\n",
    "    param_grid=param_grid_mlp,\n",
    "    cv=5,\n",
    "    scoring='accuracy',\n",
    "    n_jobs=-1\n",
    ")\n",
    "\n",
    "# Entrenamiento del grid search\n",
    "grid_search_mlp.fit(X_train_cls, y_train_cls)\n",
    "\n",
    "# Mostrar mejores parámetros encontrados\n",
    "print(\"Mejores hiperparámetros para MLPClassifier:\")\n",
    "print(grid_search_mlp.best_params_)\n"
   ]
  },
  {
   "cell_type": "code",
   "execution_count": 6,
   "id": "19a2b1a6",
   "metadata": {},
   "outputs": [],
   "source": [
    "# === Obtener el mejor modelo ===\n",
    "best_mlp_model = grid_search_mlp.best_estimator_\n",
    "\n",
    "# === Entrenar sobre el conjunto de entrenamiento completo ===\n",
    "best_mlp_model.fit(X_train_cls, y_train_cls)\n",
    "\n",
    "# === Predicción sobre el conjunto de prueba ===\n",
    "y_pred_cls = best_mlp_model.predict(X_test_cls)\n"
   ]
  },
  {
   "cell_type": "code",
   "execution_count": 7,
   "id": "0667185c",
   "metadata": {},
   "outputs": [
    {
     "name": "stdout",
     "output_type": "stream",
     "text": [
      "Accuracy del MLPClassifier: 0.4811\n",
      "Matriz de confusión:\n",
      "[[217  50  10]\n",
      " [ 97  68   9]\n",
      " [105  44   7]]\n",
      "Informe de clasificación:\n",
      "                    precision    recall  f1-score   support\n",
      "\n",
      "    Victoria local       0.52      0.78      0.62       277\n",
      "            Empate       0.42      0.39      0.40       174\n",
      "Victoria visitante       0.27      0.04      0.08       156\n",
      "\n",
      "          accuracy                           0.48       607\n",
      "         macro avg       0.40      0.41      0.37       607\n",
      "      weighted avg       0.43      0.48      0.42       607\n",
      "\n"
     ]
    }
   ],
   "source": [
    "# === Evaluación del rendimiento del modelo MLP ===\n",
    "accuracy = accuracy_score(y_test_cls, y_pred_cls)\n",
    "print(f\"Accuracy del MLPClassifier: {accuracy:.4f}\")\n",
    "\n",
    "# Matriz de confusión\n",
    "print(\"Matriz de confusión:\")\n",
    "print(confusion_matrix(y_test_cls, y_pred_cls))\n",
    "\n",
    "# Informe por clase\n",
    "print(\"Informe de clasificación:\")\n",
    "print(classification_report(y_test_cls, y_pred_cls, target_names=[\"Victoria local\", \"Empate\", \"Victoria visitante\"]))\n"
   ]
  },
  {
   "cell_type": "markdown",
   "id": "64a78a2f",
   "metadata": {},
   "source": [
    "### Prediccion equipo local"
   ]
  },
  {
   "cell_type": "code",
   "execution_count": 8,
   "id": "fb3451c7",
   "metadata": {},
   "outputs": [
    {
     "name": "stdout",
     "output_type": "stream",
     "text": [
      "Mejores hiperparámetros para MLPRegressor (goles local):\n",
      "{'activation': 'tanh', 'alpha': 0.001, 'hidden_layer_sizes': (100,), 'solver': 'adam'}\n"
     ]
    }
   ],
   "source": [
    "from sklearn.neural_network import MLPRegressor\n",
    "\n",
    "# === Modelo base ===\n",
    "mlp_reg = MLPRegressor(max_iter=500, random_state=42)\n",
    "\n",
    "# === Grid de hiperparámetros ===\n",
    "param_grid_reg = {\n",
    "    'hidden_layer_sizes': [(50,), (100,), (50, 50)],\n",
    "    'activation': ['relu', 'tanh'],\n",
    "    'alpha': [0.0001, 0.001],  # Regularización\n",
    "    'solver': ['adam']\n",
    "}\n",
    "\n",
    "# === Búsqueda de hiperparámetros con validación cruzada ===\n",
    "grid_search_reg = GridSearchCV(\n",
    "    estimator=mlp_reg,\n",
    "    param_grid=param_grid_reg,\n",
    "    cv=5,\n",
    "    scoring='neg_root_mean_squared_error',\n",
    "    n_jobs=-1\n",
    ")\n",
    "\n",
    "# Ajuste con los datos de goles local\n",
    "grid_search_reg.fit(X_train_loc, y_train_loc)\n",
    "\n",
    "# Mostrar mejores parámetros encontrados\n",
    "print(\"Mejores hiperparámetros para MLPRegressor (goles local):\")\n",
    "print(grid_search_reg.best_params_)\n"
   ]
  },
  {
   "cell_type": "code",
   "execution_count": 9,
   "id": "3463e14d",
   "metadata": {},
   "outputs": [],
   "source": [
    "# === Modelo final con los mejores parámetros ===\n",
    "best_mlp_reg_loc = grid_search_reg.best_estimator_\n",
    "\n",
    "# Entrenamiento sobre todo el conjunto de entrenamiento\n",
    "best_mlp_reg_loc.fit(X_train_loc, y_train_loc)\n",
    "\n",
    "# Predicción sobre el conjunto de prueba\n",
    "y_pred_loc = best_mlp_reg_loc.predict(X_test_loc)\n"
   ]
  },
  {
   "cell_type": "code",
   "execution_count": 10,
   "id": "b4ad4963",
   "metadata": {},
   "outputs": [
    {
     "name": "stdout",
     "output_type": "stream",
     "text": [
      "RMSE (goles local): 1.1946\n",
      "R² Score (goles local): 0.0349\n",
      "Accuracy exacta (goles locales redondeados): 0.3410\n"
     ]
    }
   ],
   "source": [
    "from sklearn.metrics import mean_squared_error, r2_score, accuracy_score\n",
    "\n",
    "# === RMSE y R² ===\n",
    "rmse_loc = np.sqrt(mean_squared_error(y_test_loc, y_pred_loc))\n",
    "r2_loc = r2_score(y_test_loc, y_pred_loc)\n",
    "\n",
    "print(f\"RMSE (goles local): {rmse_loc:.4f}\")\n",
    "print(f\"R² Score (goles local): {r2_loc:.4f}\")\n",
    "\n",
    "# === Accuracy redondeado ===\n",
    "y_pred_loc_round = np.round(y_pred_loc).astype(int)\n",
    "y_test_loc_round = y_test_loc.astype(int)\n",
    "\n",
    "acc_loc = accuracy_score(y_test_loc_round, y_pred_loc_round)\n",
    "print(f\"Accuracy exacta (goles locales redondeados): {acc_loc:.4f}\")\n"
   ]
  },
  {
   "cell_type": "markdown",
   "id": "bd1a9a4a",
   "metadata": {},
   "source": [
    "### Prediccion equipo visitante"
   ]
  },
  {
   "cell_type": "code",
   "execution_count": 11,
   "id": "f0d8c621",
   "metadata": {},
   "outputs": [
    {
     "name": "stdout",
     "output_type": "stream",
     "text": [
      "Mejores hiperparámetros para MLPRegressor (goles visitante):\n",
      "{'activation': 'tanh', 'alpha': 0.001, 'hidden_layer_sizes': (50,), 'solver': 'adam'}\n"
     ]
    }
   ],
   "source": [
    "# === Modelo base ===\n",
    "mlp_reg_vis = MLPRegressor(max_iter=500, random_state=42)\n",
    "\n",
    "# === Grid de hiperparámetros ===\n",
    "param_grid_reg_vis = {\n",
    "    'hidden_layer_sizes': [(50,), (100,), (50, 50)],\n",
    "    'activation': ['relu', 'tanh'],\n",
    "    'alpha': [0.0001, 0.001],\n",
    "    'solver': ['adam']\n",
    "}\n",
    "\n",
    "# === Búsqueda de hiperparámetros con validación cruzada ===\n",
    "grid_search_reg_vis = GridSearchCV(\n",
    "    estimator=mlp_reg_vis,\n",
    "    param_grid=param_grid_reg_vis,\n",
    "    cv=5,\n",
    "    scoring='neg_root_mean_squared_error',\n",
    "    n_jobs=-1\n",
    ")\n",
    "\n",
    "# Ajuste con los datos de goles visitante\n",
    "grid_search_reg_vis.fit(X_train_vis, y_train_vis)\n",
    "\n",
    "# Mostrar mejores parámetros encontrados\n",
    "print(\"Mejores hiperparámetros para MLPRegressor (goles visitante):\")\n",
    "print(grid_search_reg_vis.best_params_)\n"
   ]
  },
  {
   "cell_type": "code",
   "execution_count": 12,
   "id": "c099fe14",
   "metadata": {},
   "outputs": [],
   "source": [
    "# === Entrenar el modelo con los mejores hiperparámetros ===\n",
    "best_mlp_reg_vis = grid_search_reg_vis.best_estimator_\n",
    "\n",
    "# Entrenamiento sobre el conjunto de entrenamiento\n",
    "best_mlp_reg_vis.fit(X_train_vis, y_train_vis)\n",
    "\n",
    "# Predicción sobre el conjunto de prueba\n",
    "y_pred_vis = best_mlp_reg_vis.predict(X_test_vis)\n"
   ]
  },
  {
   "cell_type": "code",
   "execution_count": 13,
   "id": "99cedbdf",
   "metadata": {},
   "outputs": [
    {
     "name": "stdout",
     "output_type": "stream",
     "text": [
      "RMSE (goles visitante): 1.1497\n",
      "R² Score (goles visitante): -0.0100\n",
      "Accuracy exacta (goles visitantes redondeados): 0.3443\n"
     ]
    }
   ],
   "source": [
    "# === Cálculo del RMSE y R² ===\n",
    "rmse_vis = np.sqrt(mean_squared_error(y_test_vis, y_pred_vis))\n",
    "r2_vis = r2_score(y_test_vis, y_pred_vis)\n",
    "\n",
    "print(f\"RMSE (goles visitante): {rmse_vis:.4f}\")\n",
    "print(f\"R² Score (goles visitante): {r2_vis:.4f}\")\n",
    "\n",
    "# === Accuracy redondeado ===\n",
    "y_pred_vis_round = np.round(y_pred_vis).astype(int)\n",
    "y_test_vis_round = y_test_vis.astype(int)\n",
    "\n",
    "acc_vis = accuracy_score(y_test_vis_round, y_pred_vis_round)\n",
    "print(f\"Accuracy exacta (goles visitantes redondeados): {acc_vis:.4f}\")\n"
   ]
  }
 ],
 "metadata": {
  "kernelspec": {
   "display_name": "base",
   "language": "python",
   "name": "python3"
  },
  "language_info": {
   "codemirror_mode": {
    "name": "ipython",
    "version": 3
   },
   "file_extension": ".py",
   "mimetype": "text/x-python",
   "name": "python",
   "nbconvert_exporter": "python",
   "pygments_lexer": "ipython3",
   "version": "3.11.7"
  }
 },
 "nbformat": 4,
 "nbformat_minor": 5
}
