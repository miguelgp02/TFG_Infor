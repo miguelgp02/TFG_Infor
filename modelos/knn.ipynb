{
 "cells": [
  {
   "cell_type": "code",
   "execution_count": 91,
   "id": "04262291",
   "metadata": {},
   "outputs": [],
   "source": [
    "# === Librerías principales ===\n",
    "import pandas as pd\n",
    "import numpy as np\n",
    "import matplotlib.pyplot as plt\n",
    "\n",
    "# === Preprocesamiento y modelo ===\n",
    "from sklearn.model_selection import train_test_split, GridSearchCV\n",
    "from sklearn.preprocessing import MinMaxScaler\n",
    "from sklearn.neighbors import KNeighborsClassifier\n",
    "from sklearn.metrics import accuracy_score, confusion_matrix, classification_report\n"
   ]
  },
  {
   "cell_type": "code",
   "execution_count": 92,
   "id": "ec5112b4",
   "metadata": {},
   "outputs": [],
   "source": [
    "import pandas as pd\n",
    "\n",
    "# Carga individual\n",
    "df_primera = pd.read_csv('D:/TFG/codigo/datos/indicadores-filtrados-primera-5-cambios.csv', sep=\",\")\n",
    "df_premier = pd.read_csv('D:/TFG/codigo/datos/indicadores-filtrados-premier-5-cambios.csv', sep=\",\")\n",
    "df_bundesliga = pd.read_csv('D:/TFG/codigo/datos/indicadores-filtrados-bundesliga-5-cambios.csv', sep=\",\")\n",
    "\n",
    "# Unir en un solo DataFrame\n",
    "df = pd.concat([df_primera, df_premier, df_bundesliga], ignore_index=True)\n",
    "\n",
    "# === Eliminación de columnas irrelevantes o identificadores ===\n",
    "df.drop(['jornada', 'temporada', 'id_indicadores_equipo_prepartido', 'id_partido'], axis=1, inplace=True)\n",
    "\n",
    "# === Separación de variables predictoras (X) ===\n",
    "X = df.drop(['resultado_partido', 'resultado_local', 'resultado_visitante'], axis=1)\n",
    "\n",
    "# === Variables objetivo ===\n",
    "y_resultado = df['resultado_partido']           # Clasificación: resultado del partido (1, X, 2)\n",
    "y_goles_local = df['resultado_local']           # Regresión: goles del equipo local\n",
    "y_goles_visitante = df['resultado_visitante']   # Regresión: goles del equipo visitante"
   ]
  },
  {
   "cell_type": "code",
   "execution_count": 93,
   "id": "f4e39e42",
   "metadata": {},
   "outputs": [],
   "source": [
    "# === Escalado de los datos ===\n",
    "scaler = MinMaxScaler()\n",
    "X_scaled = scaler.fit_transform(X)\n",
    "\n",
    "# === División para clasificación del resultado ===\n",
    "X_train_cls, X_test_cls, y_train_cls, y_test_cls = train_test_split(\n",
    "    X_scaled, y_resultado, test_size=0.2, random_state=42\n",
    ")\n",
    "\n",
    "# === División para regresión de goles local ===\n",
    "X_train_loc, X_test_loc, y_train_loc, y_test_loc = train_test_split(\n",
    "    X_scaled, y_goles_local, test_size=0.2, random_state=42\n",
    ")\n",
    "\n",
    "# === División para regresión de goles visitante ===\n",
    "X_train_vis, X_test_vis, y_train_vis, y_test_vis = train_test_split(\n",
    "    X_scaled, y_goles_visitante, test_size=0.2, random_state=42\n",
    ")\n"
   ]
  },
  {
   "cell_type": "markdown",
   "id": "2154bb0e",
   "metadata": {},
   "source": [
    "### Predicciones resultado"
   ]
  },
  {
   "cell_type": "code",
   "execution_count": 94,
   "id": "0d991a42",
   "metadata": {},
   "outputs": [
    {
     "name": "stdout",
     "output_type": "stream",
     "text": [
      "Mejores hiperparámetros encontrados para clasificación:\n",
      "{'metric': 'euclidean', 'n_neighbors': 5, 'weights': 'uniform'}\n"
     ]
    }
   ],
   "source": [
    "# === Definimos el modelo base ===\n",
    "knn_model = KNeighborsClassifier()\n",
    "\n",
    "# === Definimos el grid de hiperparámetros a probar ===\n",
    "param_grid = {\n",
    "    'n_neighbors': [3, 5, 7, 9],\n",
    "    'weights': ['uniform', 'distance'],\n",
    "    'metric': ['euclidean', 'manhattan']\n",
    "}\n",
    "\n",
    "# === Configuramos GridSearchCV ===\n",
    "grid_search = GridSearchCV(\n",
    "    estimator=knn_model,\n",
    "    param_grid=param_grid,\n",
    "    cv=5,  # validación cruzada de 5 pliegues\n",
    "    scoring='accuracy',\n",
    "    n_jobs=-1  # uso de todos los núcleos disponibles\n",
    ")\n",
    "\n",
    "# === Entrenamos el modelo con los datos de clasificación ===\n",
    "grid_search.fit(X_train_cls, y_train_cls)\n",
    "\n",
    "# Mostramos los mejores hiperparámetros encontrados\n",
    "print(\"Mejores hiperparámetros encontrados para clasificación:\")\n",
    "print(grid_search.best_params_)\n"
   ]
  },
  {
   "cell_type": "code",
   "execution_count": 95,
   "id": "8cc93c50",
   "metadata": {},
   "outputs": [],
   "source": [
    "# === Entrenamiento final con los mejores parámetros ===\n",
    "best_knn_model = grid_search.best_estimator_\n",
    "best_knn_model.fit(X_train_cls, y_train_cls)\n",
    "\n",
    "# === Predicción sobre el conjunto de prueba ===\n",
    "y_pred_cls = best_knn_model.predict(X_test_cls)\n"
   ]
  },
  {
   "cell_type": "code",
   "execution_count": 96,
   "id": "76fa7bf7",
   "metadata": {},
   "outputs": [
    {
     "name": "stdout",
     "output_type": "stream",
     "text": [
      "Accuracy del modelo KNN en el conjunto de prueba: 0.4492\n",
      "Matriz de confusión:\n",
      "[[117  28  25]\n",
      " [ 58  27  13]\n",
      " [ 59  12  15]]\n"
     ]
    }
   ],
   "source": [
    "# === Evaluación del rendimiento del modelo ===\n",
    "from sklearn.metrics import accuracy_score, confusion_matrix, classification_report\n",
    "\n",
    "# Precisión global\n",
    "accuracy = accuracy_score(y_test_cls, y_pred_cls)\n",
    "print(f\"Accuracy del modelo KNN en el conjunto de prueba: {accuracy:.4f}\")\n",
    "\n",
    "# Matriz de confusión\n",
    "print(\"Matriz de confusión:\")\n",
    "print(confusion_matrix(y_test_cls, y_pred_cls))"
   ]
  },
  {
   "cell_type": "code",
   "execution_count": 97,
   "id": "3e0ce855",
   "metadata": {},
   "outputs": [
    {
     "name": "stdout",
     "output_type": "stream",
     "text": [
      "Top 10 variables más importantes y sus pesos:\n",
      "proporcion visitante cambios antes descanso en general: 0.0311\n",
      "proporcion local cambios delanteros a centrocampistas en general: 0.0311\n",
      "proporcion local cambios alineacion defensa sitio: 0.0254\n",
      "proporcion visitante cambios lesionados en sitio: 0.0254\n",
      "proporcion visitante corners en contra en general: 0.0254\n",
      "proporcion visitante corners a favor en general: 0.0254\n",
      "proporcion local cambios en general: 0.0226\n",
      "proporcion local cambios centrocampistas a delanteros en general: 0.0226\n",
      "proporcion local cambios alineacion delantero en general: 0.0226\n",
      "proporcion local corners a favor en sitio: 0.0226\n",
      "\n",
      "\\Porcentaje de importancia de variables relacionadas con sustituciones: 0.4913\n"
     ]
    }
   ],
   "source": [
    "from sklearn.inspection import permutation_importance\n",
    "\n",
    "# Obtener los nombres de las variables predictoras\n",
    "feature_names = X.columns\n",
    "\n",
    "# Para KNN, la importancia de variables no es directa, pero podemos usar Permutation Importance\n",
    "\n",
    "# Calculamos la importancia por permutación sobre el conjunto de test\n",
    "result = permutation_importance(best_knn_model, X_test_cls, y_test_cls, n_repeats=1, random_state=42, n_jobs=-1)\n",
    "\n",
    "# Obtenemos las 10 variables más importantes y sus importancias\n",
    "importances = result.importances_mean\n",
    "indices = np.argsort(importances)[::-1][:10]\n",
    "\n",
    "print(\"Top 10 variables más importantes y sus pesos:\")\n",
    "for idx in indices:\n",
    "    print(f\"{feature_names[idx]}: {importances[idx]:.4f}\")\n",
    "\n",
    "# Filtramos las variables relacionadas con sustituciones\n",
    "sustitucion_mask = feature_names.str.contains('cambio', case=False)\n",
    "all_mask = feature_names.str.contains('e', case=False)\n",
    "sustitucion_importance = abs(importances[sustitucion_mask]).sum()\n",
    "all_importance = abs(importances[all_mask]).sum()\n",
    "print()\n",
    "\n",
    "print(f\"\\Porcentaje de importancia de variables relacionadas con sustituciones: {sustitucion_importance/all_importance:.4f}\")"
   ]
  },
  {
   "cell_type": "markdown",
   "id": "dc528148",
   "metadata": {},
   "source": [
    "### Predicción equipo local"
   ]
  },
  {
   "cell_type": "code",
   "execution_count": 98,
   "id": "439d4d3a",
   "metadata": {},
   "outputs": [
    {
     "name": "stdout",
     "output_type": "stream",
     "text": [
      "Mejores hiperparámetros para la regresión de goles local:\n",
      "{'metric': 'manhattan', 'n_neighbors': 9, 'weights': 'distance'}\n"
     ]
    }
   ],
   "source": [
    "from sklearn.neighbors import KNeighborsRegressor\n",
    "\n",
    "# === Modelo base ===\n",
    "knn_reg = KNeighborsRegressor()\n",
    "\n",
    "# === Grid de hiperparámetros ===\n",
    "param_grid_reg = {\n",
    "    'n_neighbors': [3, 5, 7, 9],\n",
    "    'weights': ['uniform', 'distance'],\n",
    "    'metric': ['euclidean', 'manhattan']\n",
    "}\n",
    "\n",
    "# === Búsqueda de los mejores hiperparámetros ===\n",
    "grid_search_reg = GridSearchCV(\n",
    "    estimator=knn_reg,\n",
    "    param_grid=param_grid_reg,\n",
    "    cv=5,\n",
    "    scoring='neg_root_mean_squared_error',  # Minimizar RMSE\n",
    "    n_jobs=-1\n",
    ")\n",
    "\n",
    "# Ajuste con los datos de goles locales\n",
    "grid_search_reg.fit(X_train_loc, y_train_loc)\n",
    "\n",
    "# Mostrar los mejores parámetros encontrados\n",
    "print(\"Mejores hiperparámetros para la regresión de goles local:\")\n",
    "print(grid_search_reg.best_params_)\n"
   ]
  },
  {
   "cell_type": "code",
   "execution_count": 99,
   "id": "3b31ca05",
   "metadata": {},
   "outputs": [],
   "source": [
    "# === Entrenamiento final con los mejores parámetros ===\n",
    "best_knn_reg = grid_search_reg.best_estimator_\n",
    "best_knn_reg.fit(X_train_loc, y_train_loc)\n",
    "\n",
    "# === Predicción sobre el conjunto de prueba ===\n",
    "y_pred_loc = best_knn_reg.predict(X_test_loc)\n"
   ]
  },
  {
   "cell_type": "code",
   "execution_count": 100,
   "id": "0fc9a82c",
   "metadata": {},
   "outputs": [
    {
     "name": "stdout",
     "output_type": "stream",
     "text": [
      "RMSE (goles local): 1.3116\n",
      "R² Score (goles local): -0.0705\n"
     ]
    }
   ],
   "source": [
    "from sklearn.metrics import mean_squared_error, r2_score\n",
    "import numpy as np\n",
    "\n",
    "# === Cálculo del error cuadrático medio ===\n",
    "rmse_loc = np.sqrt(mean_squared_error(y_test_loc, y_pred_loc))\n",
    "r2_loc = r2_score(y_test_loc, y_pred_loc)\n",
    "\n",
    "# === Resultados ===\n",
    "print(f\"RMSE (goles local): {rmse_loc:.4f}\")\n",
    "print(f\"R² Score (goles local): {r2_loc:.4f}\")"
   ]
  },
  {
   "cell_type": "code",
   "execution_count": 101,
   "id": "5ab80e97",
   "metadata": {},
   "outputs": [
    {
     "name": "stdout",
     "output_type": "stream",
     "text": [
      "Top 10 variables más importantes y sus pesos:\n",
      "proporcion visitante cambios defensas a centrocampistas en sitio: 0.0157\n",
      "proporcion local cambios delanteros a centrocampistas sitio: 0.0129\n",
      "porcentaje local mas 0,5 marcados en general: 0.0112\n",
      "proporcion visitante cambios alineacion delantero en general: 0.0103\n",
      "proporcion local cambios en general: 0.0097\n",
      "proporcion local cambios delanteros a centrocampistas en general: 0.0087\n",
      "proporcion local cambios 45 a 60 en general: 0.0087\n",
      "proporcion visitante cambios defensas a centrocampistas en general: 0.0083\n",
      "porcentaje visitante mas 1,5 en sitio: 0.0080\n",
      "porcentaje local perdidos en general: 0.0077\n",
      "\n",
      "\\Porcentaje de importancia de variables relacionadas con sustituciones: 0.4718\n"
     ]
    }
   ],
   "source": [
    "from sklearn.inspection import permutation_importance\n",
    "\n",
    "# Obtener los nombres de las variables predictoras\n",
    "feature_names = X.columns\n",
    "\n",
    "# Para KNN, la importancia de variables no es directa, pero podemos usar Permutation Importance\n",
    "\n",
    "# Calculamos la importancia por permutación sobre el conjunto de test\n",
    "result = permutation_importance(best_knn_reg, X_test_loc, y_test_loc, n_repeats=1, random_state=42, n_jobs=-1)\n",
    "\n",
    "# Obtenemos las 10 variables más importantes y sus importancias\n",
    "importances = result.importances_mean\n",
    "indices = np.argsort(importances)[::-1][:10]\n",
    "\n",
    "print(\"Top 10 variables más importantes y sus pesos:\")\n",
    "for idx in indices:\n",
    "    print(f\"{feature_names[idx]}: {importances[idx]:.4f}\")\n",
    "\n",
    "# Filtramos las variables relacionadas con sustituciones\n",
    "sustitucion_mask = feature_names.str.contains('cambio', case=False)\n",
    "all_mask = feature_names.str.contains('e', case=False)\n",
    "sustitucion_importance = abs(importances[sustitucion_mask]).sum()\n",
    "all_importance = abs(importances[all_mask]).sum()\n",
    "print()\n",
    "print(f\"\\Porcentaje de importancia de variables relacionadas con sustituciones: {sustitucion_importance/all_importance:.4f}\")"
   ]
  },
  {
   "cell_type": "markdown",
   "id": "c1507999",
   "metadata": {},
   "source": [
    "### Predicción equipo visitante"
   ]
  },
  {
   "cell_type": "code",
   "execution_count": 102,
   "id": "efba3bca",
   "metadata": {},
   "outputs": [
    {
     "name": "stdout",
     "output_type": "stream",
     "text": [
      "Mejores hiperparámetros para la regresión de goles visitante:\n",
      "{'metric': 'manhattan', 'n_neighbors': 9, 'weights': 'uniform'}\n"
     ]
    }
   ],
   "source": [
    "# === Modelo base para regresión de goles visitante ===\n",
    "knn_reg_vis = KNeighborsRegressor()\n",
    "\n",
    "# === Grid de hiperparámetros ===\n",
    "param_grid_reg_vis = {\n",
    "    'n_neighbors': [3, 5, 7, 9],\n",
    "    'weights': ['uniform', 'distance'],\n",
    "    'metric': ['euclidean', 'manhattan']\n",
    "}\n",
    "\n",
    "# === Búsqueda de hiperparámetros con validación cruzada ===\n",
    "grid_search_reg_vis = GridSearchCV(\n",
    "    estimator=knn_reg_vis,\n",
    "    param_grid=param_grid_reg_vis,\n",
    "    cv=5,\n",
    "    scoring='neg_root_mean_squared_error',\n",
    "    n_jobs=-1\n",
    ")\n",
    "\n",
    "# Ajustar el modelo\n",
    "grid_search_reg_vis.fit(X_train_vis, y_train_vis)\n",
    "\n",
    "# Mostrar mejores hiperparámetros\n",
    "print(\"Mejores hiperparámetros para la regresión de goles visitante:\")\n",
    "print(grid_search_reg_vis.best_params_)\n"
   ]
  },
  {
   "cell_type": "code",
   "execution_count": 103,
   "id": "188b13c2",
   "metadata": {},
   "outputs": [],
   "source": [
    "# === Entrenamiento final con mejores parámetros ===\n",
    "best_knn_reg_vis = grid_search_reg_vis.best_estimator_\n",
    "best_knn_reg_vis.fit(X_train_vis, y_train_vis)\n",
    "\n",
    "# === Predicción sobre el conjunto de prueba ===\n",
    "y_pred_vis = best_knn_reg_vis.predict(X_test_vis)\n"
   ]
  },
  {
   "cell_type": "code",
   "execution_count": 104,
   "id": "088eb6e7",
   "metadata": {},
   "outputs": [
    {
     "name": "stdout",
     "output_type": "stream",
     "text": [
      "RMSE (goles visitante): 1.0862\n",
      "R² Score (goles visitante): -0.0365\n"
     ]
    }
   ],
   "source": [
    "# === Evaluación estándar ===\n",
    "rmse_vis = np.sqrt(mean_squared_error(y_test_vis, y_pred_vis))\n",
    "r2_vis = r2_score(y_test_vis, y_pred_vis)\n",
    "\n",
    "print(f\"RMSE (goles visitante): {rmse_vis:.4f}\")\n",
    "print(f\"R² Score (goles visitante): {r2_vis:.4f}\")"
   ]
  },
  {
   "cell_type": "code",
   "execution_count": 105,
   "id": "eeaac75f",
   "metadata": {},
   "outputs": [
    {
     "name": "stdout",
     "output_type": "stream",
     "text": [
      "Top 10 variables más importantes y sus pesos:\n",
      "proporcion visitante cambios 76 a final en sitio: 0.0119\n",
      "porcentaje visitante perdidos en general: 0.0108\n",
      "proporcion local rojas en sitio: 0.0103\n",
      "proporcion local cambios antes descanso en general: 0.0083\n",
      "proporcion local cambios centrocampistas a delanteros en general: 0.0081\n",
      "porcentaje local mas 2,5 en sitio: 0.0073\n",
      "proporcion local cambios 61 a 75 sitio: 0.0064\n",
      "porcentaje local mas 0,5 encajados en sitio: 0.0061\n",
      "proporcion local cambios alineacion defensa sitio: 0.0059\n",
      "proporcion local cambios alineacion delantero sitio: 0.0059\n",
      "\n",
      "\\Porcentaje de importancia de variables relacionadas con sustituciones: 0.4638\n"
     ]
    }
   ],
   "source": [
    "from sklearn.inspection import permutation_importance\n",
    "\n",
    "# Obtener los nombres de las variables predictoras\n",
    "feature_names = X.columns\n",
    "\n",
    "# Para KNN, la importancia de variables no es directa, pero podemos usar Permutation Importance\n",
    "\n",
    "# Calculamos la importancia por permutación sobre el conjunto de test\n",
    "result = permutation_importance(best_knn_reg_vis, X_test_vis, y_test_vis, n_repeats=1, random_state=42, n_jobs=-1)\n",
    "\n",
    "# Obtenemos las 10 variables más importantes y sus importancias\n",
    "importances = result.importances_mean\n",
    "indices = np.argsort(importances)[::-1][:10]\n",
    "\n",
    "print(\"Top 10 variables más importantes y sus pesos:\")\n",
    "for idx in indices:\n",
    "    print(f\"{feature_names[idx]}: {importances[idx]:.4f}\")\n",
    "\n",
    "# Filtramos las variables relacionadas con sustituciones\n",
    "sustitucion_mask = feature_names.str.contains('cambio', case=False)\n",
    "all_mask = feature_names.str.contains('e', case=False)\n",
    "sustitucion_importance = abs(importances[sustitucion_mask]).sum()\n",
    "all_importance = abs(importances[all_mask]).sum()\n",
    "print()\n",
    "\n",
    "print(f\"\\Porcentaje de importancia de variables relacionadas con sustituciones: {sustitucion_importance/all_importance:.4f}\")"
   ]
  }
 ],
 "metadata": {
  "kernelspec": {
   "display_name": "base",
   "language": "python",
   "name": "python3"
  },
  "language_info": {
   "codemirror_mode": {
    "name": "ipython",
    "version": 3
   },
   "file_extension": ".py",
   "mimetype": "text/x-python",
   "name": "python",
   "nbconvert_exporter": "python",
   "pygments_lexer": "ipython3",
   "version": "3.11.7"
  }
 },
 "nbformat": 4,
 "nbformat_minor": 5
}
