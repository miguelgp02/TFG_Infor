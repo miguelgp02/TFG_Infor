{
 "cells": [
  {
   "cell_type": "code",
   "execution_count": 110,
   "id": "ac62d2ef",
   "metadata": {},
   "outputs": [],
   "source": [
    "# === Librerías para manejo de datos y visualización ===\n",
    "import pandas as pd\n",
    "import numpy as np\n",
    "import matplotlib.pyplot as plt\n",
    "import seaborn as sns\n",
    "\n",
    "# === Scikit-learn para preprocesamiento y evaluación ===\n",
    "from sklearn.model_selection import train_test_split, GridSearchCV\n",
    "from sklearn.preprocessing import MinMaxScaler\n",
    "from sklearn.metrics import accuracy_score, confusion_matrix, classification_report, mean_squared_error, r2_score\n",
    "\n",
    "# === XGBoost para clasificación y regresión ===\n",
    "from xgboost import XGBClassifier, XGBRegressor\n"
   ]
  },
  {
   "cell_type": "code",
   "execution_count": 111,
   "id": "95922fa7",
   "metadata": {},
   "outputs": [
    {
     "data": {
      "text/html": [
       "<div>\n",
       "<style scoped>\n",
       "    .dataframe tbody tr th:only-of-type {\n",
       "        vertical-align: middle;\n",
       "    }\n",
       "\n",
       "    .dataframe tbody tr th {\n",
       "        vertical-align: top;\n",
       "    }\n",
       "\n",
       "    .dataframe thead th {\n",
       "        text-align: right;\n",
       "    }\n",
       "</style>\n",
       "<table border=\"1\" class=\"dataframe\">\n",
       "  <thead>\n",
       "    <tr style=\"text-align: right;\">\n",
       "      <th></th>\n",
       "      <th>porcentaje local ganados en sitio</th>\n",
       "      <th>porcentaje local ganados en general</th>\n",
       "      <th>porcentaje local empatados en sitio</th>\n",
       "      <th>porcentaje local empatados en general</th>\n",
       "      <th>porcentaje local perdidos en sitio</th>\n",
       "      <th>porcentaje local perdidos en general</th>\n",
       "      <th>porcentaje visitante ganados en sitio</th>\n",
       "      <th>porcentaje visitante ganados en general</th>\n",
       "      <th>porcentaje visitante empatados en sitio</th>\n",
       "      <th>porcentaje visitante empatados en general</th>\n",
       "      <th>...</th>\n",
       "      <th>proporcion local cambios alineacion centrocampista en general</th>\n",
       "      <th>proporcion visitante cambios alineacion centrocampista en sitio</th>\n",
       "      <th>proporcion visitante cambios alineacion centrocampista en general</th>\n",
       "      <th>proporcion local cambios alineacion delantero sitio</th>\n",
       "      <th>proporcion local cambios alineacion delantero en general</th>\n",
       "      <th>proporcion visitante cambios alineacion delantero en sitio</th>\n",
       "      <th>proporcion visitante cambios alineacion delantero en general</th>\n",
       "      <th>resultado_local</th>\n",
       "      <th>resultado_visitante</th>\n",
       "      <th>resultado_partido</th>\n",
       "    </tr>\n",
       "  </thead>\n",
       "  <tbody>\n",
       "    <tr>\n",
       "      <th>0</th>\n",
       "      <td>50.00</td>\n",
       "      <td>37.50</td>\n",
       "      <td>0.00</td>\n",
       "      <td>12.50</td>\n",
       "      <td>50.00</td>\n",
       "      <td>50.00</td>\n",
       "      <td>0.00</td>\n",
       "      <td>0.00</td>\n",
       "      <td>60.00</td>\n",
       "      <td>66.67</td>\n",
       "      <td>...</td>\n",
       "      <td>1.38</td>\n",
       "      <td>1.60</td>\n",
       "      <td>1.67</td>\n",
       "      <td>1.75</td>\n",
       "      <td>1.75</td>\n",
       "      <td>1.00</td>\n",
       "      <td>1.22</td>\n",
       "      <td>1</td>\n",
       "      <td>1</td>\n",
       "      <td>X</td>\n",
       "    </tr>\n",
       "    <tr>\n",
       "      <th>1</th>\n",
       "      <td>66.67</td>\n",
       "      <td>42.86</td>\n",
       "      <td>0.00</td>\n",
       "      <td>14.29</td>\n",
       "      <td>33.33</td>\n",
       "      <td>42.86</td>\n",
       "      <td>0.00</td>\n",
       "      <td>11.11</td>\n",
       "      <td>80.00</td>\n",
       "      <td>44.44</td>\n",
       "      <td>...</td>\n",
       "      <td>1.57</td>\n",
       "      <td>1.60</td>\n",
       "      <td>1.67</td>\n",
       "      <td>2.00</td>\n",
       "      <td>2.14</td>\n",
       "      <td>0.80</td>\n",
       "      <td>1.00</td>\n",
       "      <td>4</td>\n",
       "      <td>2</td>\n",
       "      <td>1</td>\n",
       "    </tr>\n",
       "    <tr>\n",
       "      <th>2</th>\n",
       "      <td>0.00</td>\n",
       "      <td>12.50</td>\n",
       "      <td>66.67</td>\n",
       "      <td>37.50</td>\n",
       "      <td>33.33</td>\n",
       "      <td>50.00</td>\n",
       "      <td>66.67</td>\n",
       "      <td>42.86</td>\n",
       "      <td>0.00</td>\n",
       "      <td>28.57</td>\n",
       "      <td>...</td>\n",
       "      <td>2.00</td>\n",
       "      <td>1.00</td>\n",
       "      <td>1.14</td>\n",
       "      <td>1.00</td>\n",
       "      <td>0.75</td>\n",
       "      <td>2.00</td>\n",
       "      <td>2.29</td>\n",
       "      <td>1</td>\n",
       "      <td>1</td>\n",
       "      <td>X</td>\n",
       "    </tr>\n",
       "    <tr>\n",
       "      <th>3</th>\n",
       "      <td>80.00</td>\n",
       "      <td>55.56</td>\n",
       "      <td>20.00</td>\n",
       "      <td>33.33</td>\n",
       "      <td>0.00</td>\n",
       "      <td>11.11</td>\n",
       "      <td>60.00</td>\n",
       "      <td>62.50</td>\n",
       "      <td>20.00</td>\n",
       "      <td>12.50</td>\n",
       "      <td>...</td>\n",
       "      <td>1.11</td>\n",
       "      <td>1.80</td>\n",
       "      <td>2.00</td>\n",
       "      <td>1.20</td>\n",
       "      <td>1.33</td>\n",
       "      <td>1.20</td>\n",
       "      <td>1.38</td>\n",
       "      <td>1</td>\n",
       "      <td>1</td>\n",
       "      <td>X</td>\n",
       "    </tr>\n",
       "    <tr>\n",
       "      <th>4</th>\n",
       "      <td>75.00</td>\n",
       "      <td>71.43</td>\n",
       "      <td>25.00</td>\n",
       "      <td>28.57</td>\n",
       "      <td>0.00</td>\n",
       "      <td>0.00</td>\n",
       "      <td>33.33</td>\n",
       "      <td>42.86</td>\n",
       "      <td>33.33</td>\n",
       "      <td>28.57</td>\n",
       "      <td>...</td>\n",
       "      <td>2.29</td>\n",
       "      <td>1.67</td>\n",
       "      <td>1.57</td>\n",
       "      <td>1.50</td>\n",
       "      <td>1.86</td>\n",
       "      <td>1.67</td>\n",
       "      <td>1.43</td>\n",
       "      <td>1</td>\n",
       "      <td>0</td>\n",
       "      <td>1</td>\n",
       "    </tr>\n",
       "  </tbody>\n",
       "</table>\n",
       "<p>5 rows × 171 columns</p>\n",
       "</div>"
      ],
      "text/plain": [
       "   porcentaje local ganados en sitio  porcentaje local ganados en general  \\\n",
       "0                              50.00                                37.50   \n",
       "1                              66.67                                42.86   \n",
       "2                               0.00                                12.50   \n",
       "3                              80.00                                55.56   \n",
       "4                              75.00                                71.43   \n",
       "\n",
       "   porcentaje local empatados en sitio  porcentaje local empatados en general  \\\n",
       "0                                 0.00                                  12.50   \n",
       "1                                 0.00                                  14.29   \n",
       "2                                66.67                                  37.50   \n",
       "3                                20.00                                  33.33   \n",
       "4                                25.00                                  28.57   \n",
       "\n",
       "   porcentaje local perdidos en sitio  porcentaje local perdidos en general  \\\n",
       "0                               50.00                                 50.00   \n",
       "1                               33.33                                 42.86   \n",
       "2                               33.33                                 50.00   \n",
       "3                                0.00                                 11.11   \n",
       "4                                0.00                                  0.00   \n",
       "\n",
       "   porcentaje visitante ganados en sitio  \\\n",
       "0                                   0.00   \n",
       "1                                   0.00   \n",
       "2                                  66.67   \n",
       "3                                  60.00   \n",
       "4                                  33.33   \n",
       "\n",
       "   porcentaje visitante ganados en general  \\\n",
       "0                                     0.00   \n",
       "1                                    11.11   \n",
       "2                                    42.86   \n",
       "3                                    62.50   \n",
       "4                                    42.86   \n",
       "\n",
       "   porcentaje visitante empatados en sitio  \\\n",
       "0                                    60.00   \n",
       "1                                    80.00   \n",
       "2                                     0.00   \n",
       "3                                    20.00   \n",
       "4                                    33.33   \n",
       "\n",
       "   porcentaje visitante empatados en general  ...  \\\n",
       "0                                      66.67  ...   \n",
       "1                                      44.44  ...   \n",
       "2                                      28.57  ...   \n",
       "3                                      12.50  ...   \n",
       "4                                      28.57  ...   \n",
       "\n",
       "   proporcion local cambios alineacion centrocampista en general  \\\n",
       "0                                               1.38               \n",
       "1                                               1.57               \n",
       "2                                               2.00               \n",
       "3                                               1.11               \n",
       "4                                               2.29               \n",
       "\n",
       "   proporcion visitante cambios alineacion centrocampista en sitio  \\\n",
       "0                                               1.60                 \n",
       "1                                               1.60                 \n",
       "2                                               1.00                 \n",
       "3                                               1.80                 \n",
       "4                                               1.67                 \n",
       "\n",
       "   proporcion visitante cambios alineacion centrocampista en general  \\\n",
       "0                                               1.67                   \n",
       "1                                               1.67                   \n",
       "2                                               1.14                   \n",
       "3                                               2.00                   \n",
       "4                                               1.57                   \n",
       "\n",
       "   proporcion local cambios alineacion delantero sitio  \\\n",
       "0                                               1.75     \n",
       "1                                               2.00     \n",
       "2                                               1.00     \n",
       "3                                               1.20     \n",
       "4                                               1.50     \n",
       "\n",
       "   proporcion local cambios alineacion delantero en general  \\\n",
       "0                                               1.75          \n",
       "1                                               2.14          \n",
       "2                                               0.75          \n",
       "3                                               1.33          \n",
       "4                                               1.86          \n",
       "\n",
       "   proporcion visitante cambios alineacion delantero en sitio  \\\n",
       "0                                               1.00            \n",
       "1                                               0.80            \n",
       "2                                               2.00            \n",
       "3                                               1.20            \n",
       "4                                               1.67            \n",
       "\n",
       "   proporcion visitante cambios alineacion delantero en general  \\\n",
       "0                                               1.22              \n",
       "1                                               1.00              \n",
       "2                                               2.29              \n",
       "3                                               1.38              \n",
       "4                                               1.43              \n",
       "\n",
       "   resultado_local  resultado_visitante  resultado_partido  \n",
       "0                1                    1                  X  \n",
       "1                4                    2                  1  \n",
       "2                1                    1                  X  \n",
       "3                1                    1                  X  \n",
       "4                1                    0                  1  \n",
       "\n",
       "[5 rows x 171 columns]"
      ]
     },
     "execution_count": 111,
     "metadata": {},
     "output_type": "execute_result"
    }
   ],
   "source": [
    "import pandas as pd\n",
    "\n",
    "# Carga individual\n",
    "df_primera = pd.read_csv('D:/TFG/codigo/datos/indicadores-filtrados-primera-5-cambios.csv', sep=\",\")\n",
    "df_premier = pd.read_csv('D:/TFG/codigo/datos/indicadores-filtrados-premier-5-cambios.csv', sep=\",\")\n",
    "df_bundesliga = pd.read_csv('D:/TFG/codigo/datos/indicadores-filtrados-bundesliga-5-cambios.csv', sep=\",\")\n",
    "\n",
    "\n",
    "# Unir en un solo DataFrame\n",
    "df = pd.concat([df_primera, df_premier, df_bundesliga], ignore_index=True)\n",
    "\n",
    "# === Eliminación de columnas irrelevantes o identificadores ===\n",
    "df.drop(['jornada', 'temporada', 'id_indicadores_equipo_prepartido', 'id_partido'], axis=1, inplace=True)\n",
    "df.head()\n"
   ]
  },
  {
   "cell_type": "code",
   "execution_count": 112,
   "id": "87ad399d",
   "metadata": {},
   "outputs": [],
   "source": [
    "# === Separación de variables predictoras (X) ===\n",
    "X = df.drop(['resultado_partido', 'resultado_local', 'resultado_visitante'], axis=1)\n",
    "\n",
    "# === Variables objetivo ===\n",
    "# Para clasificación multiclase: resultado del partido (victoria local, empate, victoria visitante)\n",
    "y_resultado = df['resultado_partido'].replace({'1': 0, 'X': 1, '2': 2})  # Mapear etiquetas a valores numéricos\n",
    "\n",
    "# Para regresión: goles del equipo local y visitante\n",
    "y_goles_local = df['resultado_local']\n",
    "y_goles_visitante = df['resultado_visitante']\n"
   ]
  },
  {
   "cell_type": "code",
   "execution_count": 113,
   "id": "30f54bcb",
   "metadata": {},
   "outputs": [],
   "source": [
    "# === Escalado de X con MinMaxScaler (opcional en XGBoost, pero útil para consistencia) ===\n",
    "scaler = MinMaxScaler()\n",
    "X_scaled = scaler.fit_transform(X)\n",
    "\n",
    "# === División de datos en entrenamiento y prueba (clasificación) ===\n",
    "X_train_cls, X_test_cls, y_train_cls, y_test_cls = train_test_split(\n",
    "    X_scaled, y_resultado, test_size=0.2, random_state=42\n",
    ")\n",
    "\n",
    "# === División de datos para predicción de goles del equipo local ===\n",
    "X_train_loc, X_test_loc, y_train_loc, y_test_loc = train_test_split(\n",
    "    X_scaled, y_goles_local, test_size=0.2, random_state=42\n",
    ")\n",
    "\n",
    "# === División de datos para predicción de goles del equipo visitante ===\n",
    "X_train_vis, X_test_vis, y_train_vis, y_test_vis = train_test_split(\n",
    "    X_scaled, y_goles_visitante, test_size=0.2, random_state=42\n",
    ")\n"
   ]
  },
  {
   "cell_type": "markdown",
   "id": "97c7efd7",
   "metadata": {},
   "source": [
    "### PREDICCIONES RESULTADO"
   ]
  },
  {
   "cell_type": "code",
   "execution_count": 114,
   "id": "22c69b5d",
   "metadata": {},
   "outputs": [
    {
     "name": "stderr",
     "output_type": "stream",
     "text": [
      "c:\\Users\\Miguel\\anaconda3\\Lib\\site-packages\\xgboost\\training.py:183: UserWarning: [09:57:57] WARNING: C:\\actions-runner\\_work\\xgboost\\xgboost\\src\\learner.cc:738: \n",
      "Parameters: { \"use_label_encoder\" } are not used.\n",
      "\n",
      "  bst.update(dtrain, iteration=i, fobj=obj)\n"
     ]
    }
   ],
   "source": [
    "# === Entrenamiento del modelo de clasificación con XGBoost ===\n",
    "clf_model = XGBClassifier(\n",
    "    objective='multi:softmax',   # Predicción multiclase con etiquetas\n",
    "    num_class=3,                 # 3 clases: victoria local, empate, victoria visitante\n",
    "    eval_metric='mlogloss',      # Log-loss multiclase (funciona bien como métrica)\n",
    "    use_label_encoder=False,\n",
    "    random_state=42\n",
    ")\n",
    "\n",
    "# Ajustar el modelo\n",
    "clf_model.fit(X_train_cls, y_train_cls)\n",
    "\n",
    "# Predicción sobre el conjunto de prueba\n",
    "y_pred_cls = clf_model.predict(X_test_cls)\n"
   ]
  },
  {
   "cell_type": "code",
   "execution_count": 115,
   "id": "52701bba",
   "metadata": {},
   "outputs": [
    {
     "name": "stdout",
     "output_type": "stream",
     "text": [
      "Precisión en el conjunto de prueba: 0.4322\n",
      "Matriz de confusión:\n",
      "[[109  40  21]\n",
      " [ 51  21  14]\n",
      " [ 50  25  23]]\n"
     ]
    }
   ],
   "source": [
    "# === Precisión global ===\n",
    "accuracy = accuracy_score(y_test_cls, y_pred_cls)\n",
    "print(f\"Precisión en el conjunto de prueba: {accuracy:.4f}\")\n",
    "\n",
    "# === Matriz de confusión ===\n",
    "conf_matrix = confusion_matrix(y_test_cls, y_pred_cls)\n",
    "print(\"Matriz de confusión:\")\n",
    "print(conf_matrix)"
   ]
  },
  {
   "cell_type": "code",
   "execution_count": 116,
   "id": "4ae46b97",
   "metadata": {},
   "outputs": [
    {
     "name": "stdout",
     "output_type": "stream",
     "text": [
      "Top 10 variables más importantes:\n",
      "                                              Variable  Importancia\n",
      "1                  porcentaje local ganados en general     0.015342\n",
      "129  proporcion local cambios centrocampistas a def...     0.011721\n",
      "34            proporcion local goles marcados en sitio     0.011459\n",
      "83            proporcion visitante posesion en general     0.010891\n",
      "81                proporcion local posesion en general     0.009760\n",
      "35          proporcion local goles marcados en general     0.009223\n",
      "40        proporcion visitante goles marcados en sitio     0.009032\n",
      "82              proporcion visitante posesion en sitio     0.008744\n",
      "76                   proporcion local cambios en sitio     0.008534\n",
      "41      proporcion visitante goles marcados en general     0.008358\n"
     ]
    }
   ],
   "source": [
    "# === Importancia de las variables del modelo de clasificación ===\n",
    "importances = clf_model.feature_importances_\n",
    "feature_names = X.columns\n",
    "\n",
    "# Crear un DataFrame ordenado por importancia\n",
    "feature_importance_df = pd.DataFrame({\n",
    "    'Variable': feature_names,\n",
    "    'Importancia': importances\n",
    "}).sort_values(by='Importancia', ascending=False)\n",
    "\n",
    "# Mostrar las 15 más importantes\n",
    "print(\"Top 10 variables más importantes:\")\n",
    "print(feature_importance_df.head(10))\n"
   ]
  },
  {
   "cell_type": "code",
   "execution_count": 117,
   "id": "3e373af0",
   "metadata": {},
   "outputs": [
    {
     "name": "stdout",
     "output_type": "stream",
     "text": [
      "Suma total de importancia de las variables relacionadas con la rotación: 0.4274\n"
     ]
    }
   ],
   "source": [
    "# === Suma de la importancia de variables relacionadas con la rotación ===\n",
    "cambio_vars = feature_importance_df[feature_importance_df['Variable'].str.contains('cambio', case=False)]\n",
    "suma_importancia_cambio = cambio_vars['Importancia'].sum()\n",
    "print(f\"Suma total de importancia de las variables relacionadas con la rotación: {suma_importancia_cambio:.4f}\")"
   ]
  },
  {
   "cell_type": "markdown",
   "id": "0ff542d0",
   "metadata": {},
   "source": [
    "### GOLES EQUIPO LOCAL"
   ]
  },
  {
   "cell_type": "code",
   "execution_count": 118,
   "id": "9752943d",
   "metadata": {},
   "outputs": [],
   "source": [
    "# === Modelo de regresión para predecir los goles del equipo local ===\n",
    "reg_local_model = XGBRegressor(\n",
    "    objective='reg:squarederror',  # Error cuadrático medio, típico en regresión\n",
    "    eval_metric='rmse',            # Métrica de evaluación: raíz del error cuadrático medio\n",
    "    random_state=42\n",
    ")\n",
    "\n",
    "# Entrenar el modelo\n",
    "reg_local_model.fit(X_train_loc, y_train_loc)\n",
    "\n",
    "# Predicción sobre el conjunto de prueba\n",
    "y_pred_loc = reg_local_model.predict(X_test_loc)"
   ]
  },
  {
   "cell_type": "code",
   "execution_count": 119,
   "id": "a22f2ec2",
   "metadata": {},
   "outputs": [
    {
     "name": "stdout",
     "output_type": "stream",
     "text": [
      "RMSE (Goles local): 1.3787\n",
      "R² Score (Goles local): -0.1828\n"
     ]
    }
   ],
   "source": [
    "# === Evaluación del modelo de regresión para goles del equipo local ===\n",
    "from sklearn.metrics import mean_squared_error, r2_score\n",
    "\n",
    "# Error cuadrático medio\n",
    "mse_loc = mean_squared_error(y_test_loc, y_pred_loc)\n",
    "rmse_loc = np.sqrt(mse_loc)\n",
    "\n",
    "# Coeficiente de determinación R²\n",
    "r2_loc = r2_score(y_test_loc, y_pred_loc)\n",
    "\n",
    "print(f\"RMSE (Goles local): {rmse_loc:.4f}\")\n",
    "print(f\"R² Score (Goles local): {r2_loc:.4f}\")\n"
   ]
  },
  {
   "cell_type": "code",
   "execution_count": 120,
   "id": "537b9c6f",
   "metadata": {},
   "outputs": [
    {
     "name": "stdout",
     "output_type": "stream",
     "text": [
      "Top 10 variables más importantes para la predicción de goles del equipo local:\n",
      "                                             Variable  Importancia\n",
      "35         proporcion local goles marcados en general     0.038802\n",
      "84              proporcion local total tiros en sitio     0.017274\n",
      "89        proporcion local corners a favor en general     0.016452\n",
      "49       porcentaje local mas 2,5 marcados en general     0.015912\n",
      "12                   proporcion local puntos en sitio     0.015504\n",
      "13                 proporcion local puntos en general     0.014931\n",
      "154  proporcion visitante cambios 76 a final en sitio     0.014477\n",
      "80                 proporcion local posesion en sitio     0.014189\n",
      "152         proporcion local cambios 76 a final sitio     0.013716\n",
      "83           proporcion visitante posesion en general     0.012692\n"
     ]
    }
   ],
   "source": [
    "# === Importancia de las variables en el modelo de regresión ===\n",
    "importances = reg_local_model.feature_importances_\n",
    "feature_names = X.columns\n",
    "\n",
    "# Crear DataFrame ordenado por importancia\n",
    "feature_importance_df = pd.DataFrame({\n",
    "    'Variable': feature_names,\n",
    "    'Importancia': importances\n",
    "}).sort_values(by='Importancia', ascending=False)\n",
    "\n",
    "# Mostrar las 15 más importantes\n",
    "print(\"Top 10 variables más importantes para la predicción de goles del equipo local:\")\n",
    "print(feature_importance_df.head(10))\n"
   ]
  },
  {
   "cell_type": "code",
   "execution_count": 121,
   "id": "04e1fdcc",
   "metadata": {},
   "outputs": [
    {
     "name": "stdout",
     "output_type": "stream",
     "text": [
      "Suma total de importancia de las variables relacionadas con la rotación: 0.4205\n"
     ]
    }
   ],
   "source": [
    "# === Suma de la importancia de variables relacionadas con la rotación ===\n",
    "cambio_vars = feature_importance_df[feature_importance_df['Variable'].str.contains('cambio', case=False)]\n",
    "suma_importancia_cambio = cambio_vars['Importancia'].sum()\n",
    "print(f\"Suma total de importancia de las variables relacionadas con la rotación: {suma_importancia_cambio:.4f}\")"
   ]
  },
  {
   "cell_type": "markdown",
   "id": "0ac0f5e2",
   "metadata": {},
   "source": [
    "### GOLES EQUIPO VISITANTE"
   ]
  },
  {
   "cell_type": "code",
   "execution_count": 122,
   "id": "50841afc",
   "metadata": {},
   "outputs": [],
   "source": [
    "# === Modelo de regresión para predecir los goles del equipo visitante ===\n",
    "reg_visit_model = XGBRegressor(\n",
    "    objective='reg:squarederror',\n",
    "    eval_metric='rmse',\n",
    "    random_state=42\n",
    ")\n",
    "\n",
    "# Entrenar el modelo\n",
    "reg_visit_model.fit(X_train_vis, y_train_vis)\n",
    "\n",
    "# Predicción sobre el conjunto de prueba\n",
    "y_pred_vis = reg_visit_model.predict(X_test_vis)\n"
   ]
  },
  {
   "cell_type": "code",
   "execution_count": 123,
   "id": "de68623a",
   "metadata": {},
   "outputs": [
    {
     "name": "stdout",
     "output_type": "stream",
     "text": [
      "RMSE (goles visitante): 1.1290\n",
      "R² Score (goles visitante): -0.1198\n"
     ]
    }
   ],
   "source": [
    "# Métricas de evaluación\n",
    "rmse_vis = np.sqrt(mean_squared_error(y_test_vis, y_pred_vis))\n",
    "r2_vis = r2_score(y_test_vis, y_pred_vis)\n",
    "\n",
    "print(f\"RMSE (goles visitante): {rmse_vis:.4f}\")\n",
    "print(f\"R² Score (goles visitante): {r2_vis:.4f}\")\n"
   ]
  },
  {
   "cell_type": "code",
   "execution_count": 124,
   "id": "2437153a",
   "metadata": {},
   "outputs": [
    {
     "name": "stdout",
     "output_type": "stream",
     "text": [
      "Top 10 variables más importantes para la predicción de goles del equipo visitante:\n",
      "                                              Variable  Importancia\n",
      "41      proporcion visitante goles marcados en general     0.047056\n",
      "163  proporcion visitante cambios alineacion centro...     0.022515\n",
      "87         proporcion visitante total tiros en general     0.020481\n",
      "100           proporcion local cambios amarillas sitio     0.017159\n",
      "139  proporcion visitante cambios defensas a centro...     0.016607\n",
      "143  proporcion visitante cambios antes descanso en...     0.016599\n",
      "97      proporcion local cambios lesionados en general     0.014846\n",
      "65   porcentaje visitante mas 1,5 encajados en general     0.014570\n",
      "78               proporcion visitante cambios en sitio     0.014312\n",
      "43     proporcion visitante goles encajados en general     0.013684\n"
     ]
    }
   ],
   "source": [
    "# === Importancia de las variables en el modelo de regresión ===\n",
    "importances = reg_visit_model.feature_importances_\n",
    "feature_names = X.columns\n",
    "\n",
    "# Crear DataFrame ordenado por importancia\n",
    "feature_importance_df = pd.DataFrame({\n",
    "    'Variable': feature_names,\n",
    "    'Importancia': importances\n",
    "}).sort_values(by='Importancia', ascending=False)\n",
    "\n",
    "# Mostrar las 15 más importantes\n",
    "print(\"Top 10 variables más importantes para la predicción de goles del equipo visitante:\")\n",
    "print(feature_importance_df.head(10))\n"
   ]
  },
  {
   "cell_type": "code",
   "execution_count": 125,
   "id": "a0c51b89",
   "metadata": {},
   "outputs": [
    {
     "name": "stdout",
     "output_type": "stream",
     "text": [
      "Suma total de importancia de las variables relacionadas con la rotación: 0.4962\n"
     ]
    }
   ],
   "source": [
    "# === Suma de la importancia de variables relacionadas con la rotación ===\n",
    "cambio_vars = feature_importance_df[feature_importance_df['Variable'].str.contains('cambio', case=False)]\n",
    "suma_importancia_cambio = cambio_vars['Importancia'].sum()\n",
    "print(f\"Suma total de importancia de las variables relacionadas con la rotación: {suma_importancia_cambio:.4f}\")"
   ]
  }
 ],
 "metadata": {
  "kernelspec": {
   "display_name": "base",
   "language": "python",
   "name": "python3"
  },
  "language_info": {
   "codemirror_mode": {
    "name": "ipython",
    "version": 3
   },
   "file_extension": ".py",
   "mimetype": "text/x-python",
   "name": "python",
   "nbconvert_exporter": "python",
   "pygments_lexer": "ipython3",
   "version": "3.11.7"
  }
 },
 "nbformat": 4,
 "nbformat_minor": 5
}
