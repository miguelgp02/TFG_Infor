{
 "cells": [
  {
   "cell_type": "code",
   "execution_count": 76,
   "id": "6a80f2ec",
   "metadata": {},
   "outputs": [],
   "source": [
    "# === Librerías básicas ===\n",
    "import pandas as pd\n",
    "import numpy as np\n",
    "import matplotlib.pyplot as plt\n",
    "import seaborn as sns\n",
    "\n",
    "# === Preprocesamiento, modelo y evaluación ===\n",
    "from sklearn.model_selection import train_test_split, GridSearchCV\n",
    "from sklearn.preprocessing import MinMaxScaler\n",
    "from sklearn.svm import SVC\n",
    "from sklearn.metrics import accuracy_score, confusion_matrix, classification_report\n"
   ]
  },
  {
   "cell_type": "code",
   "execution_count": 77,
   "id": "2ae8f2ec",
   "metadata": {},
   "outputs": [],
   "source": [
    "# Carga individual\n",
    "df_primera = pd.read_csv('D:/TFG/codigo/datos/indicadores-filtrados-primera-5-cambios.csv', sep=\",\")\n",
    "df_premier = pd.read_csv('D:/TFG/codigo/datos/indicadores-filtrados-premier-5-cambios.csv', sep=\",\")\n",
    "df_bundesliga = pd.read_csv('D:/TFG/codigo/datos/indicadores-filtrados-bundesliga-5-cambios.csv', sep=\",\")\n",
    "\n",
    "# Unir en un solo DataFrame\n",
    "df = pd.concat([df_primera, df_premier, df_bundesliga], ignore_index=True)\n",
    "\n",
    "# === Eliminación de columnas irrelevantes o identificadores ===\n",
    "df.drop(['jornada', 'temporada', 'id_indicadores_equipo_prepartido', 'id_partido'], axis=1, inplace=True)\n",
    "\n",
    "# === Variables predictoras ===\n",
    "X = df.drop(['resultado_partido', 'resultado_local', 'resultado_visitante'], axis=1)\n",
    "\n",
    "# === Variables objetivo ===\n",
    "y_resultado = df['resultado_partido']           # Para clasificación (1, X, 2)\n",
    "y_goles_local = df['resultado_local']           # Para regresión\n",
    "y_goles_visitante = df['resultado_visitante']   # Para regresión\n"
   ]
  },
  {
   "cell_type": "code",
   "execution_count": 78,
   "id": "1f3b3fdd",
   "metadata": {},
   "outputs": [],
   "source": [
    "# === Escalado de variables ===\n",
    "scaler = MinMaxScaler()\n",
    "X_scaled = scaler.fit_transform(X)\n",
    "\n",
    "# === División para clasificación del resultado ===\n",
    "X_train_cls, X_test_cls, y_train_cls, y_test_cls = train_test_split(\n",
    "    X_scaled, y_resultado, test_size=0.2, random_state=60\n",
    ")\n",
    "\n",
    "# === División para predicción de goles locales ===\n",
    "X_train_loc, X_test_loc, y_train_loc, y_test_loc = train_test_split(\n",
    "    X_scaled, y_goles_local, test_size=0.2, random_state=42\n",
    ")\n",
    "\n",
    "# === División para predicción de goles visitantes ===\n",
    "X_train_vis, X_test_vis, y_train_vis, y_test_vis = train_test_split(\n",
    "    X_scaled, y_goles_visitante, test_size=0.2, random_state=42\n",
    ")\n"
   ]
  },
  {
   "cell_type": "markdown",
   "id": "6c9878cd",
   "metadata": {},
   "source": [
    "### Predicciones resultado"
   ]
  },
  {
   "cell_type": "code",
   "execution_count": 79,
   "id": "c48d54eb",
   "metadata": {},
   "outputs": [
    {
     "name": "stdout",
     "output_type": "stream",
     "text": [
      "Mejores hiperparámetros para SVM (clasificación):\n",
      "{'C': 1, 'gamma': 'scale', 'kernel': 'rbf'}\n"
     ]
    }
   ],
   "source": [
    "# === Modelo base ===\n",
    "svm_model = SVC()\n",
    "\n",
    "# === Grid de hiperparámetros ===\n",
    "param_grid = {\n",
    "    'C': [0.1, 1, 10],                # Regularización: cuanto mayor, menos margen de error\n",
    "    'kernel': ['linear', 'rbf'],      # Tipos de kernel: lineal o radial (no lineal)\n",
    "    'gamma': ['scale', 'auto']        # Sólo aplica al kernel RBF: controla forma del margen\n",
    "}\n",
    "\n",
    "# === Búsqueda de hiperparámetros con validación cruzada ===\n",
    "grid_search_svm = GridSearchCV(\n",
    "    estimator=svm_model,\n",
    "    param_grid=param_grid,\n",
    "    cv=5,\n",
    "    scoring='accuracy',\n",
    "    n_jobs=-1\n",
    ")\n",
    "\n",
    "# Entrenamiento\n",
    "grid_search_svm.fit(X_train_cls, y_train_cls)\n",
    "\n",
    "# Mostrar mejores parámetros\n",
    "print(\"Mejores hiperparámetros para SVM (clasificación):\")\n",
    "print(grid_search_svm.best_params_)\n"
   ]
  },
  {
   "cell_type": "code",
   "execution_count": 80,
   "id": "d2687086",
   "metadata": {},
   "outputs": [],
   "source": [
    "# === Entrenamiento final con los mejores parámetros encontrados ===\n",
    "best_svm_model = grid_search_svm.best_estimator_\n",
    "best_svm_model.fit(X_train_cls, y_train_cls)\n",
    "\n",
    "# === Predicción sobre el conjunto de prueba ===\n",
    "y_pred_cls = best_svm_model.predict(X_test_cls)\n"
   ]
  },
  {
   "cell_type": "code",
   "execution_count": 81,
   "id": "c1d3db34",
   "metadata": {},
   "outputs": [
    {
     "name": "stdout",
     "output_type": "stream",
     "text": [
      "Accuracy del modelo SVM en el conjunto de prueba: 0.4576\n",
      "Matriz de confusión:\n",
      "[[143  31   4]\n",
      " [ 60  14   7]\n",
      " [ 78  12   5]]\n"
     ]
    }
   ],
   "source": [
    "# === Evaluación del rendimiento del modelo SVM ===\n",
    "accuracy = accuracy_score(y_test_cls, y_pred_cls)\n",
    "print(f\"Accuracy del modelo SVM en el conjunto de prueba: {accuracy:.4f}\")\n",
    "\n",
    "# Matriz de confusión\n",
    "print(\"Matriz de confusión:\")\n",
    "print(confusion_matrix(y_test_cls, y_pred_cls))\n"
   ]
  },
  {
   "cell_type": "code",
   "execution_count": 82,
   "id": "5169bbdb",
   "metadata": {},
   "outputs": [
    {
     "name": "stdout",
     "output_type": "stream",
     "text": [
      "Top 10 variables más importantes y sus pesos:\n",
      "proporcion local corners a favor en sitio: 0.0056\n",
      "proporcion visitante cambios 61 a 75 en general: 0.0028\n",
      "proporcion local cambios centrocampistas a delanteros en general: 0.0028\n",
      "proporcion local posesion en sitio: 0.0028\n",
      "proporcion local cambios en sitio: 0.0028\n",
      "proporcion local cambios defensas a delanteros sitio: 0.0028\n",
      "proporcion local cambios delanteros a centrocampistas sitio: 0.0028\n",
      "porcentaje visitante mas 2,5 marcados en sitio: 0.0028\n",
      "proporcion visitante cambios 45 a 60 en general: 0.0028\n",
      "proporcion local cambios centrocampistas a defensas sitio: 0.0028\n",
      "\n",
      "\\Porcentaje de importancia de variables relacionadas con sustituciones: 0.3767\n"
     ]
    }
   ],
   "source": [
    "from sklearn.inspection import permutation_importance\n",
    "\n",
    "# Obtener los nombres de las variables predictoras\n",
    "feature_names = X.columns\n",
    "\n",
    "# Para KNN, la importancia de variables no es directa, pero podemos usar Permutation Importance\n",
    "\n",
    "# Calculamos la importancia por permutación sobre el conjunto de test\n",
    "result = permutation_importance(best_svm_model, X_test_cls, y_test_cls, n_repeats=1, random_state=42, n_jobs=-1)\n",
    "\n",
    "# Obtenemos las 10 variables más importantes y sus importancias\n",
    "importances = result.importances_mean\n",
    "indices = np.argsort(importances)[::-1][:10]\n",
    "\n",
    "print(\"Top 10 variables más importantes y sus pesos:\")\n",
    "for idx in indices:\n",
    "    print(f\"{feature_names[idx]}: {importances[idx]:.4f}\")\n",
    "\n",
    "# Filtramos las variables relacionadas con sustituciones\n",
    "sustitucion_mask = feature_names.str.contains('cambio', case=False)\n",
    "all_mask = feature_names.str.contains('e', case=False)\n",
    "sustitucion_importance = abs(importances[sustitucion_mask]).sum()\n",
    "all_importance = abs(importances[all_mask]).sum()\n",
    "print()\n",
    "\n",
    "print(f\"\\Porcentaje de importancia de variables relacionadas con sustituciones: {sustitucion_importance/all_importance:.4f}\")"
   ]
  },
  {
   "cell_type": "markdown",
   "id": "7946fac4",
   "metadata": {},
   "source": [
    "### Predicción equipo local"
   ]
  },
  {
   "cell_type": "code",
   "execution_count": 83,
   "id": "93f89671",
   "metadata": {},
   "outputs": [
    {
     "name": "stdout",
     "output_type": "stream",
     "text": [
      "Mejores hiperparámetros para SVR (goles local):\n",
      "{'C': 1, 'gamma': 'auto', 'kernel': 'rbf'}\n"
     ]
    }
   ],
   "source": [
    "from sklearn.svm import SVR\n",
    "\n",
    "# === Modelo base para regresión ===\n",
    "svr_model = SVR()\n",
    "\n",
    "# === Grid de hiperparámetros ===\n",
    "param_grid_svr = {\n",
    "    'C': [0.1, 1, 10],\n",
    "    'kernel': ['linear', 'rbf'],\n",
    "    'gamma': ['scale', 'auto']\n",
    "}\n",
    "\n",
    "# === Búsqueda de hiperparámetros con validación cruzada ===\n",
    "grid_search_svr = GridSearchCV(\n",
    "    estimator=svr_model,\n",
    "    param_grid=param_grid_svr,\n",
    "    cv=5,\n",
    "    scoring='neg_root_mean_squared_error',\n",
    "    n_jobs=-1\n",
    ")\n",
    "\n",
    "# Entrenar sobre datos de goles del equipo local\n",
    "grid_search_svr.fit(X_train_loc, y_train_loc)\n",
    "\n",
    "# Mostrar los mejores parámetros encontrados\n",
    "print(\"Mejores hiperparámetros para SVR (goles local):\")\n",
    "print(grid_search_svr.best_params_)\n"
   ]
  },
  {
   "cell_type": "code",
   "execution_count": 84,
   "id": "557136cd",
   "metadata": {},
   "outputs": [],
   "source": [
    "# === Entrenamiento final con los mejores parámetros ===\n",
    "best_svr_model = grid_search_svr.best_estimator_\n",
    "best_svr_model.fit(X_train_loc, y_train_loc)\n",
    "\n",
    "# === Predicción sobre el conjunto de prueba ===\n",
    "y_pred_loc = best_svr_model.predict(X_test_loc)\n"
   ]
  },
  {
   "cell_type": "code",
   "execution_count": 85,
   "id": "0609c290",
   "metadata": {},
   "outputs": [
    {
     "name": "stdout",
     "output_type": "stream",
     "text": [
      "RMSE (goles local): 1.2773\n",
      "R² Score (goles local): -0.0152\n"
     ]
    }
   ],
   "source": [
    "from sklearn.metrics import mean_squared_error, r2_score\n",
    "import numpy as np\n",
    "\n",
    "# === Métricas de evaluación ===\n",
    "rmse_loc = np.sqrt(mean_squared_error(y_test_loc, y_pred_loc))\n",
    "r2_loc = r2_score(y_test_loc, y_pred_loc)\n",
    "\n",
    "print(f\"RMSE (goles local): {rmse_loc:.4f}\")\n",
    "print(f\"R² Score (goles local): {r2_loc:.4f}\")\n"
   ]
  },
  {
   "cell_type": "code",
   "execution_count": 86,
   "id": "ded48a25",
   "metadata": {},
   "outputs": [
    {
     "name": "stdout",
     "output_type": "stream",
     "text": [
      "Top 10 variables más importantes y sus pesos:\n",
      "porcentaje visitante mas 0,5 encajados en sitio: 0.0036\n",
      "porcentaje visitante mas 0,5 encajados en general: 0.0035\n",
      "porcentaje visitante mas 2,5 encajados en general: 0.0031\n",
      "proporcion visitante corners en contra en general: 0.0028\n",
      "proporcion local cambios amarillas sitio: 0.0026\n",
      "proporcion visitante cambios delanteros a centrocampistas en general: 0.0025\n",
      "proporcion visitante corners en contra en sitio: 0.0022\n",
      "proporcion local total tiros en sitio: 0.0022\n",
      "proporcion visitante goles totales en general: 0.0020\n",
      "porcentaje local mas 1,5 en sitio: 0.0018\n",
      "\n",
      "\\Porcentaje de importancia de variables relacionadas con sustituciones: 0.3531\n"
     ]
    }
   ],
   "source": [
    "from sklearn.inspection import permutation_importance\n",
    "\n",
    "# Obtener los nombres de las variables predictoras\n",
    "feature_names = X.columns\n",
    "\n",
    "# Para KNN, la importancia de variables no es directa, pero podemos usar Permutation Importance\n",
    "\n",
    "# Calculamos la importancia por permutación sobre el conjunto de test\n",
    "result = permutation_importance(best_svr_model, X_test_loc, y_test_loc, n_repeats=1, random_state=42, n_jobs=-1)\n",
    "\n",
    "# Obtenemos las 10 variables más importantes y sus importancias\n",
    "importances = result.importances_mean\n",
    "indices = np.argsort(importances)[::-1][:10]\n",
    "\n",
    "print(\"Top 10 variables más importantes y sus pesos:\")\n",
    "for idx in indices:\n",
    "    print(f\"{feature_names[idx]}: {importances[idx]:.4f}\")\n",
    "\n",
    "# Filtramos las variables relacionadas con sustituciones\n",
    "sustitucion_mask = feature_names.str.contains('cambio', case=False)\n",
    "all_mask = feature_names.str.contains('e', case=False)\n",
    "sustitucion_importance = abs(importances[sustitucion_mask]).sum()\n",
    "all_importance = abs(importances[all_mask]).sum()\n",
    "print()\n",
    "print(f\"\\Porcentaje de importancia de variables relacionadas con sustituciones: {sustitucion_importance/all_importance:.4f}\")"
   ]
  },
  {
   "cell_type": "markdown",
   "id": "cc13bb28",
   "metadata": {},
   "source": [
    "### Predicción equipo visitante"
   ]
  },
  {
   "cell_type": "code",
   "execution_count": 87,
   "id": "0a4777c2",
   "metadata": {},
   "outputs": [
    {
     "name": "stdout",
     "output_type": "stream",
     "text": [
      "Mejores hiperparámetros para SVR (goles visitante):\n",
      "{'C': 0.1, 'gamma': 'scale', 'kernel': 'rbf'}\n"
     ]
    }
   ],
   "source": [
    "# === Modelo base ===\n",
    "svr_model_vis = SVR()\n",
    "\n",
    "# === Grid de hiperparámetros ===\n",
    "param_grid_svr_vis = {\n",
    "    'C': [0.1, 1, 10],\n",
    "    'kernel': ['linear', 'rbf'],\n",
    "    'gamma': ['scale', 'auto']\n",
    "}\n",
    "\n",
    "# === Búsqueda de hiperparámetros con validación cruzada ===\n",
    "grid_search_svr_vis = GridSearchCV(\n",
    "    estimator=svr_model_vis,\n",
    "    param_grid=param_grid_svr_vis,\n",
    "    cv=5,\n",
    "    scoring='neg_root_mean_squared_error',\n",
    "    n_jobs=-1\n",
    ")\n",
    "\n",
    "# Entrenar sobre los datos de goles visitante\n",
    "grid_search_svr_vis.fit(X_train_vis, y_train_vis)\n",
    "\n",
    "# Mostrar mejores parámetros\n",
    "print(\"Mejores hiperparámetros para SVR (goles visitante):\")\n",
    "print(grid_search_svr_vis.best_params_)\n"
   ]
  },
  {
   "cell_type": "code",
   "execution_count": 88,
   "id": "51d88f1c",
   "metadata": {},
   "outputs": [],
   "source": [
    "# === Entrenamiento final con los mejores parámetros ===\n",
    "best_svr_model_vis = grid_search_svr_vis.best_estimator_\n",
    "best_svr_model_vis.fit(X_train_vis, y_train_vis)\n",
    "\n",
    "# === Predicción sobre el conjunto de prueba ===\n",
    "y_pred_vis = best_svr_model_vis.predict(X_test_vis)\n"
   ]
  },
  {
   "cell_type": "code",
   "execution_count": 89,
   "id": "adb34d68",
   "metadata": {},
   "outputs": [
    {
     "name": "stdout",
     "output_type": "stream",
     "text": [
      "RMSE (goles visitante): 1.0640\n",
      "R² Score (goles visitante): 0.0054\n"
     ]
    }
   ],
   "source": [
    "# === Evaluación con métricas estándar ===\n",
    "rmse_vis = np.sqrt(mean_squared_error(y_test_vis, y_pred_vis))\n",
    "r2_vis = r2_score(y_test_vis, y_pred_vis)\n",
    "\n",
    "print(f\"RMSE (goles visitante): {rmse_vis:.4f}\")\n",
    "print(f\"R² Score (goles visitante): {r2_vis:.4f}\")"
   ]
  },
  {
   "cell_type": "code",
   "execution_count": 90,
   "id": "24c41911",
   "metadata": {},
   "outputs": [
    {
     "name": "stdout",
     "output_type": "stream",
     "text": [
      "Top 10 variables más importantes y sus pesos:\n",
      "proporcion visitante corners a favor en general: 0.0034\n",
      "proporcion visitante cambios amarillas en general: 0.0024\n",
      "porcentaje visitante mas 0,5 marcados en general: 0.0021\n",
      "proporcion visitante total tiros en general: 0.0021\n",
      "proporcion visitante goles marcados en general: 0.0019\n",
      "proporcion visitante posesion en general: 0.0019\n",
      "proporcion visitante goles totales en general: 0.0019\n",
      "porcentaje visitante perdidos en general: 0.0018\n",
      "proporcion visitante posesion en sitio: 0.0017\n",
      "proporcion visitante puntos en general: 0.0016\n",
      "\n",
      "\\Porcentaje de importancia de variables relacionadas con sustituciones: 0.3010\n"
     ]
    }
   ],
   "source": [
    "from sklearn.inspection import permutation_importance\n",
    "\n",
    "# Obtener los nombres de las variables predictoras\n",
    "feature_names = X.columns\n",
    "\n",
    "# Para KNN, la importancia de variables no es directa, pero podemos usar Permutation Importance\n",
    "\n",
    "# Calculamos la importancia por permutación sobre el conjunto de test\n",
    "result = permutation_importance(best_svr_model_vis, X_test_vis, y_test_vis, n_repeats=1, random_state=42, n_jobs=-1)\n",
    "\n",
    "# Obtenemos las 10 variables más importantes y sus importancias\n",
    "importances = result.importances_mean\n",
    "indices = np.argsort(importances)[::-1][:10]\n",
    "\n",
    "print(\"Top 10 variables más importantes y sus pesos:\")\n",
    "for idx in indices:\n",
    "    print(f\"{feature_names[idx]}: {importances[idx]:.4f}\")\n",
    "\n",
    "# Filtramos las variables relacionadas con sustituciones\n",
    "sustitucion_mask = feature_names.str.contains('cambio', case=False)\n",
    "all_mask = feature_names.str.contains('e', case=False)\n",
    "sustitucion_importance = abs(importances[sustitucion_mask]).sum()\n",
    "all_importance = abs(importances[all_mask]).sum()\n",
    "print()\n",
    "\n",
    "print(f\"\\Porcentaje de importancia de variables relacionadas con sustituciones: {sustitucion_importance/all_importance:.4f}\")"
   ]
  }
 ],
 "metadata": {
  "kernelspec": {
   "display_name": "base",
   "language": "python",
   "name": "python3"
  },
  "language_info": {
   "codemirror_mode": {
    "name": "ipython",
    "version": 3
   },
   "file_extension": ".py",
   "mimetype": "text/x-python",
   "name": "python",
   "nbconvert_exporter": "python",
   "pygments_lexer": "ipython3",
   "version": "3.11.7"
  }
 },
 "nbformat": 4,
 "nbformat_minor": 5
}
