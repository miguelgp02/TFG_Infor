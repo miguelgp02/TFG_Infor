{
 "cells": [
  {
   "cell_type": "code",
   "execution_count": 47,
   "id": "bf628787",
   "metadata": {},
   "outputs": [],
   "source": [
    "# === Importación de librerías necesarias ===\n",
    "import pandas as pd  \n",
    "import numpy as np   \n",
    "import matplotlib.pyplot as plt \n",
    "import seaborn as sns  \n",
    "from sklearn.model_selection import train_test_split, GridSearchCV \n",
    "from sklearn.ensemble import RandomForestClassifier  \n",
    "from sklearn.preprocessing import MinMaxScaler \n",
    "from sklearn.metrics import accuracy_score, confusion_matrix, classification_report\n"
   ]
  },
  {
   "cell_type": "code",
   "execution_count": 48,
   "id": "ab076c06",
   "metadata": {},
   "outputs": [
    {
     "data": {
      "text/html": [
       "<div>\n",
       "<style scoped>\n",
       "    .dataframe tbody tr th:only-of-type {\n",
       "        vertical-align: middle;\n",
       "    }\n",
       "\n",
       "    .dataframe tbody tr th {\n",
       "        vertical-align: top;\n",
       "    }\n",
       "\n",
       "    .dataframe thead th {\n",
       "        text-align: right;\n",
       "    }\n",
       "</style>\n",
       "<table border=\"1\" class=\"dataframe\">\n",
       "  <thead>\n",
       "    <tr style=\"text-align: right;\">\n",
       "      <th></th>\n",
       "      <th>porcentaje local ganados en sitio</th>\n",
       "      <th>porcentaje local ganados en general</th>\n",
       "      <th>porcentaje local empatados en sitio</th>\n",
       "      <th>porcentaje local empatados en general</th>\n",
       "      <th>porcentaje local perdidos en sitio</th>\n",
       "      <th>porcentaje local perdidos en general</th>\n",
       "      <th>porcentaje visitante ganados en sitio</th>\n",
       "      <th>porcentaje visitante ganados en general</th>\n",
       "      <th>porcentaje visitante empatados en sitio</th>\n",
       "      <th>porcentaje visitante empatados en general</th>\n",
       "      <th>...</th>\n",
       "      <th>proporcion local cambios alineacion centrocampista en general</th>\n",
       "      <th>proporcion visitante cambios alineacion centrocampista en sitio</th>\n",
       "      <th>proporcion visitante cambios alineacion centrocampista en general</th>\n",
       "      <th>proporcion local cambios alineacion delantero sitio</th>\n",
       "      <th>proporcion local cambios alineacion delantero en general</th>\n",
       "      <th>proporcion visitante cambios alineacion delantero en sitio</th>\n",
       "      <th>proporcion visitante cambios alineacion delantero en general</th>\n",
       "      <th>resultado_local</th>\n",
       "      <th>resultado_visitante</th>\n",
       "      <th>resultado_partido</th>\n",
       "    </tr>\n",
       "  </thead>\n",
       "  <tbody>\n",
       "    <tr>\n",
       "      <th>0</th>\n",
       "      <td>50.00</td>\n",
       "      <td>37.50</td>\n",
       "      <td>0.00</td>\n",
       "      <td>12.50</td>\n",
       "      <td>50.00</td>\n",
       "      <td>50.00</td>\n",
       "      <td>0.00</td>\n",
       "      <td>0.00</td>\n",
       "      <td>60.00</td>\n",
       "      <td>66.67</td>\n",
       "      <td>...</td>\n",
       "      <td>1.38</td>\n",
       "      <td>1.60</td>\n",
       "      <td>1.67</td>\n",
       "      <td>1.75</td>\n",
       "      <td>1.75</td>\n",
       "      <td>1.00</td>\n",
       "      <td>1.22</td>\n",
       "      <td>1</td>\n",
       "      <td>1</td>\n",
       "      <td>X</td>\n",
       "    </tr>\n",
       "    <tr>\n",
       "      <th>1</th>\n",
       "      <td>66.67</td>\n",
       "      <td>42.86</td>\n",
       "      <td>0.00</td>\n",
       "      <td>14.29</td>\n",
       "      <td>33.33</td>\n",
       "      <td>42.86</td>\n",
       "      <td>0.00</td>\n",
       "      <td>11.11</td>\n",
       "      <td>80.00</td>\n",
       "      <td>44.44</td>\n",
       "      <td>...</td>\n",
       "      <td>1.57</td>\n",
       "      <td>1.60</td>\n",
       "      <td>1.67</td>\n",
       "      <td>2.00</td>\n",
       "      <td>2.14</td>\n",
       "      <td>0.80</td>\n",
       "      <td>1.00</td>\n",
       "      <td>4</td>\n",
       "      <td>2</td>\n",
       "      <td>1</td>\n",
       "    </tr>\n",
       "    <tr>\n",
       "      <th>2</th>\n",
       "      <td>0.00</td>\n",
       "      <td>12.50</td>\n",
       "      <td>66.67</td>\n",
       "      <td>37.50</td>\n",
       "      <td>33.33</td>\n",
       "      <td>50.00</td>\n",
       "      <td>66.67</td>\n",
       "      <td>42.86</td>\n",
       "      <td>0.00</td>\n",
       "      <td>28.57</td>\n",
       "      <td>...</td>\n",
       "      <td>2.00</td>\n",
       "      <td>1.00</td>\n",
       "      <td>1.14</td>\n",
       "      <td>1.00</td>\n",
       "      <td>0.75</td>\n",
       "      <td>2.00</td>\n",
       "      <td>2.29</td>\n",
       "      <td>1</td>\n",
       "      <td>1</td>\n",
       "      <td>X</td>\n",
       "    </tr>\n",
       "    <tr>\n",
       "      <th>3</th>\n",
       "      <td>80.00</td>\n",
       "      <td>55.56</td>\n",
       "      <td>20.00</td>\n",
       "      <td>33.33</td>\n",
       "      <td>0.00</td>\n",
       "      <td>11.11</td>\n",
       "      <td>60.00</td>\n",
       "      <td>62.50</td>\n",
       "      <td>20.00</td>\n",
       "      <td>12.50</td>\n",
       "      <td>...</td>\n",
       "      <td>1.11</td>\n",
       "      <td>1.80</td>\n",
       "      <td>2.00</td>\n",
       "      <td>1.20</td>\n",
       "      <td>1.33</td>\n",
       "      <td>1.20</td>\n",
       "      <td>1.38</td>\n",
       "      <td>1</td>\n",
       "      <td>1</td>\n",
       "      <td>X</td>\n",
       "    </tr>\n",
       "    <tr>\n",
       "      <th>4</th>\n",
       "      <td>75.00</td>\n",
       "      <td>71.43</td>\n",
       "      <td>25.00</td>\n",
       "      <td>28.57</td>\n",
       "      <td>0.00</td>\n",
       "      <td>0.00</td>\n",
       "      <td>33.33</td>\n",
       "      <td>42.86</td>\n",
       "      <td>33.33</td>\n",
       "      <td>28.57</td>\n",
       "      <td>...</td>\n",
       "      <td>2.29</td>\n",
       "      <td>1.67</td>\n",
       "      <td>1.57</td>\n",
       "      <td>1.50</td>\n",
       "      <td>1.86</td>\n",
       "      <td>1.67</td>\n",
       "      <td>1.43</td>\n",
       "      <td>1</td>\n",
       "      <td>0</td>\n",
       "      <td>1</td>\n",
       "    </tr>\n",
       "  </tbody>\n",
       "</table>\n",
       "<p>5 rows × 171 columns</p>\n",
       "</div>"
      ],
      "text/plain": [
       "   porcentaje local ganados en sitio  porcentaje local ganados en general  \\\n",
       "0                              50.00                                37.50   \n",
       "1                              66.67                                42.86   \n",
       "2                               0.00                                12.50   \n",
       "3                              80.00                                55.56   \n",
       "4                              75.00                                71.43   \n",
       "\n",
       "   porcentaje local empatados en sitio  porcentaje local empatados en general  \\\n",
       "0                                 0.00                                  12.50   \n",
       "1                                 0.00                                  14.29   \n",
       "2                                66.67                                  37.50   \n",
       "3                                20.00                                  33.33   \n",
       "4                                25.00                                  28.57   \n",
       "\n",
       "   porcentaje local perdidos en sitio  porcentaje local perdidos en general  \\\n",
       "0                               50.00                                 50.00   \n",
       "1                               33.33                                 42.86   \n",
       "2                               33.33                                 50.00   \n",
       "3                                0.00                                 11.11   \n",
       "4                                0.00                                  0.00   \n",
       "\n",
       "   porcentaje visitante ganados en sitio  \\\n",
       "0                                   0.00   \n",
       "1                                   0.00   \n",
       "2                                  66.67   \n",
       "3                                  60.00   \n",
       "4                                  33.33   \n",
       "\n",
       "   porcentaje visitante ganados en general  \\\n",
       "0                                     0.00   \n",
       "1                                    11.11   \n",
       "2                                    42.86   \n",
       "3                                    62.50   \n",
       "4                                    42.86   \n",
       "\n",
       "   porcentaje visitante empatados en sitio  \\\n",
       "0                                    60.00   \n",
       "1                                    80.00   \n",
       "2                                     0.00   \n",
       "3                                    20.00   \n",
       "4                                    33.33   \n",
       "\n",
       "   porcentaje visitante empatados en general  ...  \\\n",
       "0                                      66.67  ...   \n",
       "1                                      44.44  ...   \n",
       "2                                      28.57  ...   \n",
       "3                                      12.50  ...   \n",
       "4                                      28.57  ...   \n",
       "\n",
       "   proporcion local cambios alineacion centrocampista en general  \\\n",
       "0                                               1.38               \n",
       "1                                               1.57               \n",
       "2                                               2.00               \n",
       "3                                               1.11               \n",
       "4                                               2.29               \n",
       "\n",
       "   proporcion visitante cambios alineacion centrocampista en sitio  \\\n",
       "0                                               1.60                 \n",
       "1                                               1.60                 \n",
       "2                                               1.00                 \n",
       "3                                               1.80                 \n",
       "4                                               1.67                 \n",
       "\n",
       "   proporcion visitante cambios alineacion centrocampista en general  \\\n",
       "0                                               1.67                   \n",
       "1                                               1.67                   \n",
       "2                                               1.14                   \n",
       "3                                               2.00                   \n",
       "4                                               1.57                   \n",
       "\n",
       "   proporcion local cambios alineacion delantero sitio  \\\n",
       "0                                               1.75     \n",
       "1                                               2.00     \n",
       "2                                               1.00     \n",
       "3                                               1.20     \n",
       "4                                               1.50     \n",
       "\n",
       "   proporcion local cambios alineacion delantero en general  \\\n",
       "0                                               1.75          \n",
       "1                                               2.14          \n",
       "2                                               0.75          \n",
       "3                                               1.33          \n",
       "4                                               1.86          \n",
       "\n",
       "   proporcion visitante cambios alineacion delantero en sitio  \\\n",
       "0                                               1.00            \n",
       "1                                               0.80            \n",
       "2                                               2.00            \n",
       "3                                               1.20            \n",
       "4                                               1.67            \n",
       "\n",
       "   proporcion visitante cambios alineacion delantero en general  \\\n",
       "0                                               1.22              \n",
       "1                                               1.00              \n",
       "2                                               2.29              \n",
       "3                                               1.38              \n",
       "4                                               1.43              \n",
       "\n",
       "   resultado_local  resultado_visitante  resultado_partido  \n",
       "0                1                    1                  X  \n",
       "1                4                    2                  1  \n",
       "2                1                    1                  X  \n",
       "3                1                    1                  X  \n",
       "4                1                    0                  1  \n",
       "\n",
       "[5 rows x 171 columns]"
      ]
     },
     "execution_count": 48,
     "metadata": {},
     "output_type": "execute_result"
    }
   ],
   "source": [
    "import pandas as pd\n",
    "\n",
    "# Carga individual\n",
    "df_primera = pd.read_csv('D:/TFG/codigo/datos/indicadores-filtrados-primera-5-cambios.csv', sep=\",\")\n",
    "df_premier = pd.read_csv('D:/TFG/codigo/datos/indicadores-filtrados-premier-5-cambios.csv', sep=\",\")\n",
    "df_bundesliga = pd.read_csv('D:/TFG/codigo/datos/indicadores-filtrados-bundesliga-5-cambios.csv', sep=\",\")\n",
    "\n",
    "\n",
    "# Unir en un solo DataFrame\n",
    "df = pd.concat([df_primera, df_premier, df_bundesliga], ignore_index=True)\n",
    "\n",
    "# === Eliminación de columnas irrelevantes o identificadores ===\n",
    "df.drop(['jornada', 'temporada', 'id_indicadores_equipo_prepartido', 'id_partido'], axis=1, inplace=True)\n",
    "df.head()\n"
   ]
  },
  {
   "cell_type": "code",
   "execution_count": 49,
   "id": "c3adc380",
   "metadata": {},
   "outputs": [],
   "source": [
    "# === Separación de variables predictoras (X) y objetivos (y) ===\n",
    "\n",
    "# X contendrá todos los indicadores que se usarán como predictores\n",
    "X = df.drop(['resultado_partido', 'resultado_local', 'resultado_visitante'], axis=1)\n",
    "\n",
    "# Variables objetivo posibles:\n",
    "y_resultado = df['resultado_partido']            # Resultado general (1, 2 o X)\n",
    "y_resultado_local = df['resultado_local']        # Resultado desde el punto de vista del equipo local (1 si gana el local, 0 en otro caso)\n",
    "y_resultado_visitante = df['resultado_visitante']  # Idem para el visitante\n",
    "\n",
    "# En este modelo trabajaremos con y_resultado"
   ]
  },
  {
   "cell_type": "code",
   "execution_count": 50,
   "id": "73b47d0b",
   "metadata": {},
   "outputs": [],
   "source": [
    "# === Escalado de variables predictoras ===\n",
    "scaler = MinMaxScaler()\n",
    "X_scaled = scaler.fit_transform(X)  # Escala todos los valores entre 0 y 1"
   ]
  },
  {
   "cell_type": "markdown",
   "id": "8005e5f3",
   "metadata": {},
   "source": [
    "### PREDICCIONES RESULTADO"
   ]
  },
  {
   "cell_type": "code",
   "execution_count": 51,
   "id": "8e6d5ab1",
   "metadata": {},
   "outputs": [],
   "source": [
    "# === División del conjunto de datos en entrenamiento y prueba ===\n",
    "X_train, X_test, y_train, y_test = train_test_split(\n",
    "    X_scaled, y_resultado, test_size=0.2, random_state=42\n",
    ")\n"
   ]
  },
  {
   "cell_type": "code",
   "execution_count": 52,
   "id": "9b35204e",
   "metadata": {},
   "outputs": [
    {
     "name": "stdout",
     "output_type": "stream",
     "text": [
      "Mejores hiperparámetros encontrados: {'max_depth': 30, 'min_samples_split': 2, 'n_estimators': 100}\n"
     ]
    }
   ],
   "source": [
    "# === Definición del modelo base ===\n",
    "model = RandomForestClassifier(random_state=42)\n",
    "\n",
    "# === Definición del grid de hiperparámetros a probar ===\n",
    "param_grid = {\n",
    "    'n_estimators': [100, 150, 200],       # Número de árboles en el bosque\n",
    "    'max_depth': [10, 20, 30],             # Profundidad máxima de los árboles\n",
    "    'min_samples_split': [2, 5, 10]        # Mínimo de muestras para dividir un nodo interno\n",
    "}\n",
    "\n",
    "# === Búsqueda de los mejores hiperparámetros con validación cruzada (5 particiones) ===\n",
    "grid_search = GridSearchCV(\n",
    "    estimator=model,\n",
    "    param_grid=param_grid,\n",
    "    cv=5,                   # 5-fold cross-validation\n",
    "    scoring='accuracy',     # Métrica de evaluación\n",
    "    n_jobs=-1               # Usa todos los núcleos disponibles para paralelizar\n",
    ")\n",
    "\n",
    "# Ajustar el modelo con los datos de entrenamiento\n",
    "grid_search.fit(X_train, y_train)\n",
    "\n",
    "# Extraer los mejores hiperparámetros\n",
    "best_params = grid_search.best_params_\n",
    "print(\"Mejores hiperparámetros encontrados:\", best_params)\n"
   ]
  },
  {
   "cell_type": "code",
   "execution_count": 53,
   "id": "681345de",
   "metadata": {},
   "outputs": [],
   "source": [
    "# === Entrenamiento del modelo con los mejores hiperparámetros ===\n",
    "best_model = RandomForestClassifier(**best_params, random_state=42)\n",
    "best_model.fit(X_train, y_train)\n",
    "\n",
    "# === Predicción sobre el conjunto de prueba ===\n",
    "y_test_pred = best_model.predict(X_test)\n"
   ]
  },
  {
   "cell_type": "code",
   "execution_count": 54,
   "id": "e99d770e",
   "metadata": {},
   "outputs": [
    {
     "name": "stdout",
     "output_type": "stream",
     "text": [
      "Precisión (accuracy) en el conjunto de prueba: 0.4379\n",
      "Matriz de confusión:\n",
      "[[123  18  29]\n",
      " [ 64  15  19]\n",
      " [ 58  11  17]]\n"
     ]
    }
   ],
   "source": [
    "# === Evaluación de la precisión global del modelo ===\n",
    "test_accuracy = accuracy_score(y_test, y_test_pred)\n",
    "print(f\"Precisión (accuracy) en el conjunto de prueba: {test_accuracy:.4f}\")\n",
    "\n",
    "# === Matriz de confusión ===\n",
    "conf_matrix = confusion_matrix(y_test, y_test_pred)\n",
    "print(\"Matriz de confusión:\")\n",
    "print(conf_matrix)"
   ]
  },
  {
   "cell_type": "code",
   "execution_count": 55,
   "id": "7fb11211",
   "metadata": {},
   "outputs": [
    {
     "name": "stdout",
     "output_type": "stream",
     "text": [
      "Top 10 variables más importantes:\n",
      "                                             Variable  Importancia\n",
      "82             proporcion visitante posesion en sitio     0.010117\n",
      "81               proporcion local posesion en general     0.010038\n",
      "83           proporcion visitante posesion en general     0.009995\n",
      "13                 proporcion local puntos en general     0.009744\n",
      "84              proporcion local total tiros en sitio     0.009099\n",
      "85            proporcion local total tiros en general     0.008811\n",
      "5                porcentaje local perdidos en general     0.008138\n",
      "80                 proporcion local posesion en sitio     0.008137\n",
      "47       porcentaje local mas 1,5 marcados en general     0.007961\n",
      "95  proporcion visitante corners en contra en general     0.007844\n"
     ]
    }
   ],
   "source": [
    "# === Cálculo de la importancia de cada variable ===\n",
    "importances = best_model.feature_importances_\n",
    "feature_names = X.columns\n",
    "\n",
    "# Crear un DataFrame ordenado por importancia\n",
    "feature_importance_df = pd.DataFrame({\n",
    "    'Variable': feature_names,\n",
    "    'Importancia': importances\n",
    "}).sort_values(by='Importancia', ascending=False)\n",
    "\n",
    "# Mostrar las 15 variables más importantes\n",
    "print(\"Top 10 variables más importantes:\")\n",
    "print(feature_importance_df.head(10))\n"
   ]
  },
  {
   "cell_type": "code",
   "execution_count": 56,
   "id": "ecf87097",
   "metadata": {},
   "outputs": [
    {
     "name": "stdout",
     "output_type": "stream",
     "text": [
      "Suma total de importancia de las variables relacionadas con la rotación: 0.4348\n"
     ]
    }
   ],
   "source": [
    "# === Suma de la importancia de variables relacionadas con la rotación ===\n",
    "cambio_vars = feature_importance_df[feature_importance_df['Variable'].str.contains('cambio', case=False)]\n",
    "suma_importancia_cambio = cambio_vars['Importancia'].sum()\n",
    "print(f\"Suma total de importancia de las variables relacionadas con la rotación: {suma_importancia_cambio:.4f}\")"
   ]
  },
  {
   "cell_type": "markdown",
   "id": "6aec1f7e",
   "metadata": {},
   "source": [
    "### GOLES DEL EQUIPO LOCAL"
   ]
  },
  {
   "cell_type": "code",
   "execution_count": 57,
   "id": "afaa103c",
   "metadata": {},
   "outputs": [],
   "source": [
    "# === División del conjunto de datos en entrenamiento y prueba ===\n",
    "X_train, X_test, y_train, y_test = train_test_split(\n",
    "    X_scaled, y_resultado_local, test_size=0.2, random_state=42\n",
    ")"
   ]
  },
  {
   "cell_type": "code",
   "execution_count": 58,
   "id": "74639f6c",
   "metadata": {},
   "outputs": [
    {
     "name": "stderr",
     "output_type": "stream",
     "text": [
      "c:\\Users\\Miguel\\anaconda3\\Lib\\site-packages\\sklearn\\model_selection\\_split.py:700: UserWarning: The least populated class in y has only 3 members, which is less than n_splits=5.\n",
      "  warnings.warn(\n"
     ]
    },
    {
     "name": "stdout",
     "output_type": "stream",
     "text": [
      "Mejores hiperparámetros encontrados: {'max_depth': 20, 'min_samples_split': 10, 'n_estimators': 150}\n"
     ]
    }
   ],
   "source": [
    "# === Definición del modelo base ===\n",
    "model = RandomForestClassifier(random_state=42)\n",
    "\n",
    "# === Definición del grid de hiperparámetros a probar ===\n",
    "param_grid = {\n",
    "    'n_estimators': [100, 150, 200],       # Número de árboles en el bosque\n",
    "    'max_depth': [10, 20, 30],             # Profundidad máxima de los árboles\n",
    "    'min_samples_split': [2, 5, 10]        # Mínimo de muestras para dividir un nodo interno\n",
    "}\n",
    "\n",
    "# === Búsqueda de los mejores hiperparámetros con validación cruzada (5 particiones) ===\n",
    "grid_search = GridSearchCV(\n",
    "    estimator=model,\n",
    "    param_grid=param_grid,\n",
    "    cv=5,                   # 5-fold cross-validation\n",
    "    scoring='accuracy',     # Métrica de evaluación\n",
    "    n_jobs=-1               # Usa todos los núcleos disponibles para paralelizar\n",
    ")\n",
    "\n",
    "# Ajustar el modelo con los datos de entrenamiento\n",
    "grid_search.fit(X_train, y_train)\n",
    "\n",
    "# Extraer los mejores hiperparámetros\n",
    "best_params = grid_search.best_params_\n",
    "print(\"Mejores hiperparámetros encontrados:\", best_params)"
   ]
  },
  {
   "cell_type": "code",
   "execution_count": 59,
   "id": "a10c693a",
   "metadata": {},
   "outputs": [],
   "source": [
    "# === Entrenamiento del modelo con los mejores hiperparámetros ===\n",
    "best_model = RandomForestClassifier(**best_params, random_state=42)\n",
    "best_model.fit(X_train, y_train)\n",
    "\n",
    "# === Predicción sobre el conjunto de prueba ===\n",
    "y_test_pred = best_model.predict(X_test)"
   ]
  },
  {
   "cell_type": "code",
   "execution_count": 60,
   "id": "183ff8e1",
   "metadata": {},
   "outputs": [
    {
     "name": "stdout",
     "output_type": "stream",
     "text": [
      "Precisión (accuracy) en el conjunto de prueba: 0.2853\n",
      "Matriz de confusión:\n",
      "[[ 5 49 17  1  0  0  0  0]\n",
      " [19 71 33  1  0  0  0  0]\n",
      " [ 4 51 24  2  0  0  0  0]\n",
      " [ 3 32 15  1  0  0  0  0]\n",
      " [ 2  9  4  2  0  0  0  0]\n",
      " [ 0  5  2  0  0  0  0  0]\n",
      " [ 0  1  0  0  0  0  0  0]\n",
      " [ 0  1  0  0  0  0  0  0]]\n"
     ]
    }
   ],
   "source": [
    "# === Evaluación de la precisión global del modelo ===\n",
    "test_accuracy = accuracy_score(y_test, y_test_pred)\n",
    "print(f\"Precisión (accuracy) en el conjunto de prueba: {test_accuracy:.4f}\")\n",
    "\n",
    "# === Matriz de confusión ===\n",
    "conf_matrix = confusion_matrix(y_test, y_test_pred)\n",
    "print(\"Matriz de confusión:\")\n",
    "print(conf_matrix)"
   ]
  },
  {
   "cell_type": "code",
   "execution_count": 61,
   "id": "d3e36227",
   "metadata": {},
   "outputs": [
    {
     "name": "stdout",
     "output_type": "stream",
     "text": [
      "Top 10 variables más importantes:\n",
      "                                              Variable  Importancia\n",
      "94     proporcion visitante corners en contra en sitio     0.008967\n",
      "80                  proporcion local posesion en sitio     0.008736\n",
      "85             proporcion local total tiros en general     0.008720\n",
      "95   proporcion visitante corners en contra en general     0.008396\n",
      "34            proporcion local goles marcados en sitio     0.008354\n",
      "161  proporcion local cambios alineacion centrocamp...     0.008198\n",
      "87         proporcion visitante total tiros en general     0.007968\n",
      "167  proporcion visitante cambios alineacion delant...     0.007771\n",
      "119  proporcion visitante cambios delanteros a cent...     0.007718\n",
      "81                proporcion local posesion en general     0.007666\n"
     ]
    }
   ],
   "source": [
    "# === Cálculo de la importancia de cada variable ===\n",
    "importances = best_model.feature_importances_\n",
    "feature_names = X.columns\n",
    "\n",
    "# Crear un DataFrame ordenado por importancia\n",
    "feature_importance_df = pd.DataFrame({\n",
    "    'Variable': feature_names,\n",
    "    'Importancia': importances\n",
    "}).sort_values(by='Importancia', ascending=False)\n",
    "\n",
    "# Mostrar las 15 variables más importantes\n",
    "print(\"Top 10 variables más importantes:\")\n",
    "print(feature_importance_df.head(10))"
   ]
  },
  {
   "cell_type": "code",
   "execution_count": 62,
   "id": "8a602d75",
   "metadata": {},
   "outputs": [
    {
     "name": "stdout",
     "output_type": "stream",
     "text": [
      "Suma total de importancia de las variables relacionadas con la rotación: 0.4504\n"
     ]
    }
   ],
   "source": [
    "# === Suma de la importancia de variables relacionadas con la rotación ===\n",
    "cambio_vars = feature_importance_df[feature_importance_df['Variable'].str.contains('cambio', case=False)]\n",
    "suma_importancia_cambio = cambio_vars['Importancia'].sum()\n",
    "print(f\"Suma total de importancia de las variables relacionadas con la rotación: {suma_importancia_cambio:.4f}\")"
   ]
  },
  {
   "cell_type": "markdown",
   "id": "437d85ac",
   "metadata": {},
   "source": [
    "### GOLES DEL EQUIPO VISITANTE"
   ]
  },
  {
   "cell_type": "code",
   "execution_count": 63,
   "id": "2dc4a21f",
   "metadata": {},
   "outputs": [],
   "source": [
    "# === División del conjunto de datos en entrenamiento y prueba ===\n",
    "X_train, X_test, y_train, y_test = train_test_split(\n",
    "    X_scaled, y_resultado_visitante, test_size=0.2, random_state=42\n",
    ")"
   ]
  },
  {
   "cell_type": "code",
   "execution_count": 64,
   "id": "66c2f1aa",
   "metadata": {},
   "outputs": [
    {
     "name": "stderr",
     "output_type": "stream",
     "text": [
      "c:\\Users\\Miguel\\anaconda3\\Lib\\site-packages\\sklearn\\model_selection\\_split.py:700: UserWarning: The least populated class in y has only 4 members, which is less than n_splits=5.\n",
      "  warnings.warn(\n"
     ]
    },
    {
     "name": "stdout",
     "output_type": "stream",
     "text": [
      "Mejores hiperparámetros encontrados: {'max_depth': 20, 'min_samples_split': 2, 'n_estimators': 200}\n"
     ]
    }
   ],
   "source": [
    "# === Definición del modelo base ===\n",
    "model = RandomForestClassifier(random_state=42)\n",
    "\n",
    "# === Definición del grid de hiperparámetros a probar ===\n",
    "param_grid = {\n",
    "    'n_estimators': [100, 150, 200],       # Número de árboles en el bosque\n",
    "    'max_depth': [10, 20, 30],             # Profundidad máxima de los árboles\n",
    "    'min_samples_split': [2, 5, 10]        # Mínimo de muestras para dividir un nodo interno\n",
    "}\n",
    "\n",
    "# === Búsqueda de los mejores hiperparámetros con validación cruzada (5 particiones) ===\n",
    "grid_search = GridSearchCV(\n",
    "    estimator=model,\n",
    "    param_grid=param_grid,\n",
    "    cv=5,                   # 5-fold cross-validation\n",
    "    scoring='accuracy',     # Métrica de evaluación\n",
    "    n_jobs=-1               # Usa todos los núcleos disponibles para paralelizar\n",
    ")\n",
    "\n",
    "# Ajustar el modelo con los datos de entrenamiento\n",
    "grid_search.fit(X_train, y_train)\n",
    "\n",
    "# Extraer los mejores hiperparámetros\n",
    "best_params = grid_search.best_params_\n",
    "print(\"Mejores hiperparámetros encontrados:\", best_params)"
   ]
  },
  {
   "cell_type": "code",
   "execution_count": 65,
   "id": "3ae8f53c",
   "metadata": {},
   "outputs": [],
   "source": [
    "# === Entrenamiento del modelo con los mejores hiperparámetros ===\n",
    "best_model = RandomForestClassifier(**best_params, random_state=42)\n",
    "best_model.fit(X_train, y_train)\n",
    "\n",
    "# === Predicción sobre el conjunto de prueba ===\n",
    "y_test_pred = best_model.predict(X_test)"
   ]
  },
  {
   "cell_type": "code",
   "execution_count": 66,
   "id": "1e9d16ca",
   "metadata": {},
   "outputs": [
    {
     "name": "stdout",
     "output_type": "stream",
     "text": [
      "Precisión (accuracy) en el conjunto de prueba: 0.3418\n",
      "Matriz de confusión:\n",
      "[[37 77  2  0  0  0]\n",
      " [35 81  4  1  0  0]\n",
      " [16 61  3  0  0  0]\n",
      " [ 4 22  2  0  0  0]\n",
      " [ 1  5  0  0  0  0]\n",
      " [ 1  2  0  0  0  0]]\n"
     ]
    }
   ],
   "source": [
    "# === Evaluación de la precisión global del modelo ===\n",
    "test_accuracy = accuracy_score(y_test, y_test_pred)\n",
    "print(f\"Precisión (accuracy) en el conjunto de prueba: {test_accuracy:.4f}\")\n",
    "\n",
    "# === Matriz de confusión ===\n",
    "conf_matrix = confusion_matrix(y_test, y_test_pred)\n",
    "print(\"Matriz de confusión:\")\n",
    "print(conf_matrix)"
   ]
  },
  {
   "cell_type": "code",
   "execution_count": 67,
   "id": "80e8621c",
   "metadata": {},
   "outputs": [
    {
     "name": "stdout",
     "output_type": "stream",
     "text": [
      "Top 10 variables más importantes:\n",
      "                                              Variable  Importancia\n",
      "86           proporcion visitante total tiros en sitio     0.007925\n",
      "89         proporcion local corners a favor en general     0.007583\n",
      "87         proporcion visitante total tiros en general     0.007571\n",
      "156  proporcion local cambios alineacion defensa sitio     0.007460\n",
      "159  proporcion visitante cambios alineacion defens...     0.007405\n",
      "115         media visitante cambios minutos en general     0.007268\n",
      "112                  media local cambios minutos sitio     0.007246\n",
      "82              proporcion visitante posesion en sitio     0.007235\n",
      "69               proporcion local amarillas en general     0.007225\n",
      "149        proporcion local cambios 61 a 75 en general     0.007192\n"
     ]
    }
   ],
   "source": [
    "# === Cálculo de la importancia de cada variable ===\n",
    "importances = best_model.feature_importances_\n",
    "feature_names = X.columns\n",
    "\n",
    "# Crear un DataFrame ordenado por importancia\n",
    "feature_importance_df = pd.DataFrame({\n",
    "    'Variable': feature_names,\n",
    "    'Importancia': importances\n",
    "}).sort_values(by='Importancia', ascending=False)\n",
    "\n",
    "# Mostrar las 15 variables más importantes\n",
    "print(\"Top 10 variables más importantes:\")\n",
    "print(feature_importance_df.head(10))"
   ]
  },
  {
   "cell_type": "code",
   "execution_count": 68,
   "id": "7ca252f8",
   "metadata": {},
   "outputs": [
    {
     "name": "stdout",
     "output_type": "stream",
     "text": [
      "Suma total de importancia de las variables relacionadas con la rotación: 0.4588\n"
     ]
    }
   ],
   "source": [
    "# === Suma de la importancia de variables relacionadas con la rotación ===\n",
    "cambio_vars = feature_importance_df[feature_importance_df['Variable'].str.contains('cambio', case=False)]\n",
    "suma_importancia_cambio = cambio_vars['Importancia'].sum()\n",
    "print(f\"Suma total de importancia de las variables relacionadas con la rotación: {suma_importancia_cambio:.4f}\")"
   ]
  }
 ],
 "metadata": {
  "kernelspec": {
   "display_name": "base",
   "language": "python",
   "name": "python3"
  },
  "language_info": {
   "codemirror_mode": {
    "name": "ipython",
    "version": 3
   },
   "file_extension": ".py",
   "mimetype": "text/x-python",
   "name": "python",
   "nbconvert_exporter": "python",
   "pygments_lexer": "ipython3",
   "version": "3.11.7"
  }
 },
 "nbformat": 4,
 "nbformat_minor": 5
}
